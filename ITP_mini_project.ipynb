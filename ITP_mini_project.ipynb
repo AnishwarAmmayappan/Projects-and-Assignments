{
 "cells": [
  {
   "cell_type": "markdown",
   "metadata": {},
   "source": [
    "# <center>PGP Data Science Engineering</center>\n",
    "## <center>Introduction to Programming – Mini Project:</center>\n"
   ]
  },
  {
   "cell_type": "markdown",
   "metadata": {},
   "source": [
    "### Problem 1:\n",
    "\n",
    "1. Write a program to calculate area of shapes. Your program should be capable of calculating the area of a square, rectangle, triangle and a circle. The user should be presented with options to select the shape. Based on which shape is chosed by the user, the program should ask for the appropriate input and print the resulting area on the screen.\n",
    "\n",
    "When the program is run, the screen should display something like this:\n",
    "\n",
    "**Which shape would you like to calculate the area for? Please enter the option number-**<br>\n",
    "**1. Square**<br>\n",
    "**2. Rectangle**<br>\n",
    "**3. Triangle**<br>\n",
    "**4. Circle**<br>\n",
    "**Enter Option: _**\n",
    "\n",
    "Say the user enters the option 1.\n",
    "\n",
    "**Please enter the length of a side: _**\n",
    "\n",
    "If the user enters a value of 5. The output should be:\n",
    "\n",
    "**The area of the square is 25**\n",
    "\n",
    "This program should indicate that the input is invalid if the user enters a character instead of a number as input. For instance if the user enters a value of ‘a’ instead of 5 in the previous example the program should prompt:\n",
    "\n",
    "**Invalid input, please enter a number: _**\n"
   ]
  },
  {
   "cell_type": "code",
   "execution_count": 24,
   "metadata": {},
   "outputs": [
    {
     "name": "stdout",
     "output_type": "stream",
     "text": [
      "Which shape would you like to calculate the area for? Please enter the option number-\n",
      "1. Square\n",
      "2. Rectangle\n",
      "3. Triangle\n",
      "4. Circle\n",
      "Enter Option: 3\n",
      "Please enter the base and height:3,6\n",
      "The area of the triangle is 9.00\n"
     ]
    }
   ],
   "source": [
    "n=input('''Which shape would you like to calculate the area for? Please enter the option number-\n",
    "1. Square\n",
    "2. Rectangle\n",
    "3. Triangle\n",
    "4. Circle\n",
    "Enter Option: ''')\n",
    "if(int(n)<1 and int(n)>4):\n",
    "    n=input('please enter a number between 1 and 4: ')\n",
    "    \n",
    "if(not n.isnumeric()):\n",
    "    n=input('Invalid input, please enter a number: ')\n",
    "    \n",
    "if(n.isnumeric()):\n",
    "    if(int(n)==1):\n",
    "        a=float(input('Please enter the length of a side:'))\n",
    "        print(\"The area of the square is %.2f\"%(a**2))\n",
    "    if(int(n)==2):\n",
    "        l,b=map(float,input('Please enter the length and breadth:').split(','))\n",
    "        print(\"The area of the rectangle is %.2f\"%(l*b))\n",
    "    if(int(n)==3):\n",
    "        b,h=map(float,input('Please enter the base and height:').split(','))\n",
    "        print(\"The area of the triangle is %.2f\"%((1/2)*b*h))\n",
    "    if(int(n)==4):\n",
    "        r=float(input('Please enter the radius:'))\n",
    "        print(\"The area of the circle is %.2f\"%(3.14*(r**2)))\n"
   ]
  },
  {
   "cell_type": "markdown",
   "metadata": {},
   "source": [
    "### Problem 2:\n",
    "\n",
    "Create and encrypter in python based on the ceaser cipher. It is a substitution cipher where each character of the original text is shifted a certain number characters in the alphabet. Write a function that would require 2 arguments – the input text to be encrypted and a key. For eg: Given the input text ‘hello’ and the key 3, the resulting encryted text would be ‘khoor’. Here you can see that every character in the string hello is shifted by 3 characters. ‘h’ has shifted to ‘k’, ‘e’ has shifted to ‘h’ and so on. If a key of 5 were used, the resulting string would be ‘mjqqt’. This function should be capable of ignoring any characters which are not alphabets. Th2 character ‘z’ entered b\n",
    "y the user for a key of 3 would result in ‘c’.\n",
    "\n",
    "Usage:<br>\n",
    "**encrypt(‘hello world!’, 3)**<br>\n",
    "**‘khoor zruog!’**\n",
    "\n",
    "Similarly create decrypter which can decode the encryted text when provided the input text and key\n",
    "\n",
    "Usage:<br>\n",
    "**decrypt(‘khoor zruog!’, 3)**<br>\n",
    "**‘hello world!’**\n",
    "\n",
    "For the sake of simplicity you can assume that input solely consists of lowercase alphabets, spaces and punctuation symbols. Numbers in the input text would also be ignored similar to symbols."
   ]
  },
  {
   "cell_type": "code",
   "execution_count": 36,
   "metadata": {},
   "outputs": [
    {
     "name": "stdout",
     "output_type": "stream",
     "text": [
      "Please enter a string to be encrypted: anishxw\n",
      "Enter the key value: 20\n",
      "The encrypted text:  uhcmbrq\n",
      "Please enter a string to be decrypted: uhcmbrq\n",
      "Enter the key value: 20\n",
      "The decrypted text:  anishxw\n"
     ]
    }
   ],
   "source": [
    "def encrypt(s,n):\n",
    "    enc=''\n",
    "    for i in s.lower():\n",
    "        if(i.isalpha()):\n",
    "            temp=ord(i)+n\n",
    "            if(temp<=122):\n",
    "                enc+=chr(temp)\n",
    "            else:\n",
    "                temp=temp-122+96\n",
    "                enc+=chr(temp)\n",
    "        else:\n",
    "            enc+=i\n",
    "    print(\"The encrypted text:  %s\"%enc)\n",
    "\n",
    "def decrypt(s,n):\n",
    "    dec=''\n",
    "    for i in s.lower():\n",
    "        if(i.isalpha()):\n",
    "            temp=ord(i)-n\n",
    "            if(temp>=97):\n",
    "                dec+=chr(temp)\n",
    "            else:\n",
    "                temp=123-(97-temp)\n",
    "                dec+=chr(temp)\n",
    "        else:\n",
    "            dec+=i\n",
    "    print(\"The decrypted text:  %s\"%dec)\n",
    "\n",
    "encrypt(input('Please enter a string to be encrypted: '),int(input('Enter the key value: ')))\n",
    "decrypt(input('Please enter a string to be decrypted: '),int(input('Enter the key value: ')))     "
   ]
  },
  {
   "cell_type": "code",
   "execution_count": null,
   "metadata": {},
   "outputs": [],
   "source": []
  }
 ],
 "metadata": {
  "kernelspec": {
   "display_name": "Python 3",
   "language": "python",
   "name": "python3"
  },
  "language_info": {
   "codemirror_mode": {
    "name": "ipython",
    "version": 3
   },
   "file_extension": ".py",
   "mimetype": "text/x-python",
   "name": "python",
   "nbconvert_exporter": "python",
   "pygments_lexer": "ipython3",
   "version": "3.7.7"
  }
 },
 "nbformat": 4,
 "nbformat_minor": 2
}
