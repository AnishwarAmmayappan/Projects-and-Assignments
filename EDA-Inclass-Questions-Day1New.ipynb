{
 "cells": [
  {
   "cell_type": "markdown",
   "metadata": {
    "colab_type": "text",
    "id": "XGH-_sze1bQV"
   },
   "source": [
    "<span style=\"font-family: Arial; font-weight:bold;font-size:1.9em;color:#ae09ea;\">  Case Study 1"
   ]
  },
  {
   "cell_type": "markdown",
   "metadata": {
    "colab_type": "text",
    "id": "Bt89cbem1bQY"
   },
   "source": [
    "<span style=\"font-family: Arial; font-weight:bold;font-size:1.5em;color:#ae09ea;\">  About the Data set <span style=\"font-family: Arial; font-weight:bold;font-size:0.8em;color:red;\"> (500 Person Body Information)\n",
    "\n"
   ]
  },
  {
   "cell_type": "markdown",
   "metadata": {
    "colab_type": "text",
    "id": "RMvlyp-O1bQZ"
   },
   "source": [
    "    GenderGender : Male / Female\n",
    "    HeightHeight : Number (cm)\n",
    "    WeightWeight : Number (Kg)\n",
    "    IndexIndex : 0 - Extremely Weak 1 - Weak 2 - Normal 3 - Overweight 4 - Obesity 5 - Extreme Obesity"
   ]
  },
  {
   "cell_type": "markdown",
   "metadata": {
    "colab_type": "text",
    "id": "IPEHwRqt1bQa"
   },
   "source": [
    "<span style=\"font-family: Arial; font-weight:bold;font-size:1.5em;color:#ae09ea;\"> 1.1 Load the libraries:"
   ]
  },
  {
   "cell_type": "code",
   "execution_count": 1,
   "metadata": {
    "colab": {},
    "colab_type": "code",
    "id": "VvpA0HW21bQb"
   },
   "outputs": [],
   "source": [
    "import numpy as np\n",
    "import matplotlib.pyplot as plt\n",
    "#matplotlib inline\n",
    "import seaborn as sns\n",
    "import pandas as pd"
   ]
  },
  {
   "cell_type": "markdown",
   "metadata": {
    "colab_type": "text",
    "id": "Tf2QYogr1bQf"
   },
   "source": [
    "<span style=\"font-family: Arial; font-weight:bold;font-size:1.5em;color:#ae09ea;\"> 1.2. Import the dataset(Titanic train.csv):"
   ]
  },
  {
   "cell_type": "code",
   "execution_count": 3,
   "metadata": {
    "colab": {},
    "colab_type": "code",
    "id": "1VfbmsQH1bQg"
   },
   "outputs": [
    {
     "data": {
      "text/html": [
       "<div>\n",
       "<style scoped>\n",
       "    .dataframe tbody tr th:only-of-type {\n",
       "        vertical-align: middle;\n",
       "    }\n",
       "\n",
       "    .dataframe tbody tr th {\n",
       "        vertical-align: top;\n",
       "    }\n",
       "\n",
       "    .dataframe thead th {\n",
       "        text-align: right;\n",
       "    }\n",
       "</style>\n",
       "<table border=\"1\" class=\"dataframe\">\n",
       "  <thead>\n",
       "    <tr style=\"text-align: right;\">\n",
       "      <th></th>\n",
       "      <th>Gender</th>\n",
       "      <th>Height</th>\n",
       "      <th>Weight</th>\n",
       "      <th>Index</th>\n",
       "    </tr>\n",
       "  </thead>\n",
       "  <tbody>\n",
       "    <tr>\n",
       "      <th>0</th>\n",
       "      <td>Male</td>\n",
       "      <td>174</td>\n",
       "      <td>96</td>\n",
       "      <td>4</td>\n",
       "    </tr>\n",
       "    <tr>\n",
       "      <th>1</th>\n",
       "      <td>Male</td>\n",
       "      <td>189</td>\n",
       "      <td>87</td>\n",
       "      <td>2</td>\n",
       "    </tr>\n",
       "    <tr>\n",
       "      <th>2</th>\n",
       "      <td>Female</td>\n",
       "      <td>185</td>\n",
       "      <td>110</td>\n",
       "      <td>4</td>\n",
       "    </tr>\n",
       "    <tr>\n",
       "      <th>3</th>\n",
       "      <td>Female</td>\n",
       "      <td>195</td>\n",
       "      <td>104</td>\n",
       "      <td>3</td>\n",
       "    </tr>\n",
       "    <tr>\n",
       "      <th>4</th>\n",
       "      <td>Male</td>\n",
       "      <td>149</td>\n",
       "      <td>61</td>\n",
       "      <td>3</td>\n",
       "    </tr>\n",
       "  </tbody>\n",
       "</table>\n",
       "</div>"
      ],
      "text/plain": [
       "   Gender  Height  Weight  Index\n",
       "0    Male     174      96      4\n",
       "1    Male     189      87      2\n",
       "2  Female     185     110      4\n",
       "3  Female     195     104      3\n",
       "4    Male     149      61      3"
      ]
     },
     "execution_count": 3,
     "metadata": {},
     "output_type": "execute_result"
    }
   ],
   "source": [
    "df=pd.read_csv('500_Person_Gender_Height_Weight_Index.csv')\n",
    "df.head()"
   ]
  },
  {
   "cell_type": "code",
   "execution_count": 4,
   "metadata": {},
   "outputs": [
    {
     "data": {
      "text/html": [
       "<div>\n",
       "<style scoped>\n",
       "    .dataframe tbody tr th:only-of-type {\n",
       "        vertical-align: middle;\n",
       "    }\n",
       "\n",
       "    .dataframe tbody tr th {\n",
       "        vertical-align: top;\n",
       "    }\n",
       "\n",
       "    .dataframe thead th {\n",
       "        text-align: right;\n",
       "    }\n",
       "</style>\n",
       "<table border=\"1\" class=\"dataframe\">\n",
       "  <thead>\n",
       "    <tr style=\"text-align: right;\">\n",
       "      <th></th>\n",
       "      <th>Height</th>\n",
       "      <th>Weight</th>\n",
       "      <th>Index</th>\n",
       "    </tr>\n",
       "  </thead>\n",
       "  <tbody>\n",
       "    <tr>\n",
       "      <th>count</th>\n",
       "      <td>500.000000</td>\n",
       "      <td>500.000000</td>\n",
       "      <td>500.000000</td>\n",
       "    </tr>\n",
       "    <tr>\n",
       "      <th>mean</th>\n",
       "      <td>169.944000</td>\n",
       "      <td>106.000000</td>\n",
       "      <td>3.748000</td>\n",
       "    </tr>\n",
       "    <tr>\n",
       "      <th>std</th>\n",
       "      <td>16.375261</td>\n",
       "      <td>32.382607</td>\n",
       "      <td>1.355053</td>\n",
       "    </tr>\n",
       "    <tr>\n",
       "      <th>min</th>\n",
       "      <td>140.000000</td>\n",
       "      <td>50.000000</td>\n",
       "      <td>0.000000</td>\n",
       "    </tr>\n",
       "    <tr>\n",
       "      <th>25%</th>\n",
       "      <td>156.000000</td>\n",
       "      <td>80.000000</td>\n",
       "      <td>3.000000</td>\n",
       "    </tr>\n",
       "    <tr>\n",
       "      <th>50%</th>\n",
       "      <td>170.500000</td>\n",
       "      <td>106.000000</td>\n",
       "      <td>4.000000</td>\n",
       "    </tr>\n",
       "    <tr>\n",
       "      <th>75%</th>\n",
       "      <td>184.000000</td>\n",
       "      <td>136.000000</td>\n",
       "      <td>5.000000</td>\n",
       "    </tr>\n",
       "    <tr>\n",
       "      <th>max</th>\n",
       "      <td>199.000000</td>\n",
       "      <td>160.000000</td>\n",
       "      <td>5.000000</td>\n",
       "    </tr>\n",
       "  </tbody>\n",
       "</table>\n",
       "</div>"
      ],
      "text/plain": [
       "           Height      Weight       Index\n",
       "count  500.000000  500.000000  500.000000\n",
       "mean   169.944000  106.000000    3.748000\n",
       "std     16.375261   32.382607    1.355053\n",
       "min    140.000000   50.000000    0.000000\n",
       "25%    156.000000   80.000000    3.000000\n",
       "50%    170.500000  106.000000    4.000000\n",
       "75%    184.000000  136.000000    5.000000\n",
       "max    199.000000  160.000000    5.000000"
      ]
     },
     "execution_count": 4,
     "metadata": {},
     "output_type": "execute_result"
    }
   ],
   "source": [
    "df.describe()"
   ]
  },
  {
   "cell_type": "code",
   "execution_count": null,
   "metadata": {},
   "outputs": [],
   "source": []
  },
  {
   "cell_type": "markdown",
   "metadata": {
    "colab_type": "text",
    "id": "gKyE2fUk1bQi"
   },
   "source": [
    "1.2a)  Read the data from multiple sources (csv, text, url etc.,)?"
   ]
  },
  {
   "cell_type": "markdown",
   "metadata": {
    "colab_type": "raw",
    "id": "KqFcD80Y1bQj"
   },
   "source": [
    "1. CSV = pd.read_csv('train.csv')\n",
    "2. XLSX files = pd.read_excel('train.xlsx', sheetname = 'Invoice')\n",
    "\n",
    "3. ZIP files =  * import zipfile\n",
    "            * archive = zipfile.ZipFile('T.zip', 'r')\n",
    "            * df = archive.read('train.csv')\n",
    "               \n",
    "4. Text (txt) = * text_file = open(\"text.txt\", \"r\")\n",
    "            *lines = text_file.read()\n",
    "               \n",
    "5. JSON file = pd.read_json('train.json')\n",
    "\n",
    "6. XML file =   *import xml.etree.ElementTree as ET\n",
    "             *tree = ET.parse('train.xml')\n",
    "             *root = tree.getroot()\n",
    "             *print root.tag\n",
    "               \n",
    "7. HDF =  pd.read_hdf('train.h5')\n"
   ]
  },
  {
   "cell_type": "markdown",
   "metadata": {
    "colab_type": "text",
    "id": "5WX9LAl81bQk"
   },
   "source": [
    "## EDA Descriptive Statistics:"
   ]
  },
  {
   "cell_type": "markdown",
   "metadata": {
    "colab_type": "text",
    "id": "2ECagHZ01bQl"
   },
   "source": [
    "<span style=\"font-family: Arial; font-weight:bold;font-size:1.5em;color:#ae09ea;\">  1.3  Measures of Central Tendency\n",
    "\n",
    "Measures of Central Tendency define significant, representative and adequate values for a set of data, depending on what you want to analyze. They are the \n",
    "\n",
    "1. mean\n",
    "2. median\n",
    "3. quantiles and mode."
   ]
  },
  {
   "cell_type": "markdown",
   "metadata": {
    "colab_type": "text",
    "id": "MrgxIZiM1bQm"
   },
   "source": [
    "<span style=\"font-family: Arial; font-weight:bold;font-size:1.2em;color:#ae09ea;\">  1.3a) Check the  mean ,Mode, Median and Quantile for data?"
   ]
  },
  {
   "cell_type": "markdown",
   "metadata": {
    "colab_type": "text",
    "id": "ReoPjgz61bQn"
   },
   "source": [
    "#### Mean"
   ]
  },
  {
   "cell_type": "code",
   "execution_count": 7,
   "metadata": {
    "colab": {},
    "colab_type": "code",
    "id": "CZ3qX3ua1bQo"
   },
   "outputs": [
    {
     "data": {
      "text/plain": [
       "Height    169.944\n",
       "Weight    106.000\n",
       "Index       3.748\n",
       "dtype: float64"
      ]
     },
     "execution_count": 7,
     "metadata": {},
     "output_type": "execute_result"
    }
   ],
   "source": [
    "df.mean()"
   ]
  },
  {
   "cell_type": "markdown",
   "metadata": {
    "colab_type": "text",
    "id": "LcGCvsAY1bQr"
   },
   "source": [
    "#### Mode"
   ]
  },
  {
   "cell_type": "code",
   "execution_count": 32,
   "metadata": {
    "colab": {},
    "colab_type": "code",
    "id": "EdWa-07p1bQs"
   },
   "outputs": [
    {
     "data": {
      "text/html": [
       "<div>\n",
       "<style scoped>\n",
       "    .dataframe tbody tr th:only-of-type {\n",
       "        vertical-align: middle;\n",
       "    }\n",
       "\n",
       "    .dataframe tbody tr th {\n",
       "        vertical-align: top;\n",
       "    }\n",
       "\n",
       "    .dataframe thead th {\n",
       "        text-align: right;\n",
       "    }\n",
       "</style>\n",
       "<table border=\"1\" class=\"dataframe\">\n",
       "  <thead>\n",
       "    <tr style=\"text-align: right;\">\n",
       "      <th></th>\n",
       "      <th>Gender</th>\n",
       "      <th>Height</th>\n",
       "      <th>Weight</th>\n",
       "      <th>Index</th>\n",
       "    </tr>\n",
       "  </thead>\n",
       "  <tbody>\n",
       "    <tr>\n",
       "      <th>0</th>\n",
       "      <td>Female</td>\n",
       "      <td>188.0</td>\n",
       "      <td>50</td>\n",
       "      <td>5.0</td>\n",
       "    </tr>\n",
       "    <tr>\n",
       "      <th>1</th>\n",
       "      <td>NaN</td>\n",
       "      <td>NaN</td>\n",
       "      <td>80</td>\n",
       "      <td>NaN</td>\n",
       "    </tr>\n",
       "    <tr>\n",
       "      <th>2</th>\n",
       "      <td>NaN</td>\n",
       "      <td>NaN</td>\n",
       "      <td>104</td>\n",
       "      <td>NaN</td>\n",
       "    </tr>\n",
       "  </tbody>\n",
       "</table>\n",
       "</div>"
      ],
      "text/plain": [
       "   Gender  Height  Weight  Index\n",
       "0  Female   188.0      50    5.0\n",
       "1     NaN     NaN      80    NaN\n",
       "2     NaN     NaN     104    NaN"
      ]
     },
     "execution_count": 32,
     "metadata": {},
     "output_type": "execute_result"
    }
   ],
   "source": [
    "df.mode()"
   ]
  },
  {
   "cell_type": "markdown",
   "metadata": {
    "colab_type": "text",
    "id": "0VTDUUAl1bQu"
   },
   "source": [
    "#### Median and Quantile"
   ]
  },
  {
   "cell_type": "code",
   "execution_count": 12,
   "metadata": {
    "colab": {},
    "colab_type": "code",
    "id": "Zw6YMYud1bQv"
   },
   "outputs": [
    {
     "name": "stdout",
     "output_type": "stream",
     "text": [
      "Height    170.5\n",
      "Weight    106.0\n",
      "Index       4.0\n",
      "dtype: float64\n"
     ]
    },
    {
     "data": {
      "text/plain": [
       "Height    156.0\n",
       "Weight     80.0\n",
       "Index       3.0\n",
       "Name: 0.25, dtype: float64"
      ]
     },
     "execution_count": 12,
     "metadata": {},
     "output_type": "execute_result"
    }
   ],
   "source": [
    "print(df.median())"
   ]
  },
  {
   "cell_type": "code",
   "execution_count": 13,
   "metadata": {},
   "outputs": [
    {
     "name": "stdout",
     "output_type": "stream",
     "text": [
      "Height    156.0\n",
      "Weight     80.0\n",
      "Index       3.0\n",
      "Name: 0.25, dtype: float64\n",
      "Height    170.5\n",
      "Weight    106.0\n",
      "Index       4.0\n",
      "Name: 0.5, dtype: float64\n",
      "Height    184.0\n",
      "Weight    136.0\n",
      "Index       5.0\n",
      "Name: 0.75, dtype: float64\n"
     ]
    }
   ],
   "source": [
    "print(df.quantile(0.25))\n",
    "print(df.quantile(0.5))\n",
    "print(df.quantile(0.75))"
   ]
  },
  {
   "cell_type": "markdown",
   "metadata": {
    "colab_type": "text",
    "id": "WSs4D8Ko1bQy"
   },
   "source": [
    "<span style=\"font-family: Arial; font-weight:bold;font-size:1.5em;color:#ae09ea;\">1.3b) Plot the density graph of 'Height' mentioned in 'train_df' dataset and overlay mean and meadian for the data?"
   ]
  },
  {
   "cell_type": "code",
   "execution_count": 27,
   "metadata": {
    "colab": {},
    "colab_type": "code",
    "id": "snCgYuSm1bQy",
    "scrolled": true
   },
   "outputs": [
    {
     "data": {
      "text/plain": [
       "<matplotlib.legend.Legend at 0x20511eac308>"
      ]
     },
     "execution_count": 27,
     "metadata": {},
     "output_type": "execute_result"
    },
    {
     "data": {
      "image/png": "[encoded data removed]",
      "text/plain": [
       "<Figure size 432x288 with 1 Axes>"
      ]
     },
     "metadata": {
      "needs_background": "light"
     },
     "output_type": "display_data"
    }
   ],
   "source": [
    "# Create density plot kind=\"density\"\n",
    "\n",
    "# create a green line plot for mean  on the density plot:\n",
    "\n",
    "# create a red line plot for median  on the density plot:\n",
    "x=df['Height'].mean()\n",
    "y=df['Height'].median()\n",
    "sns.distplot(df['Height'])\n",
    "plt.axvline(x,label='mean',color='red')\n",
    "plt.axvline(y,label='median',color='green')\n",
    "plt.legend()"
   ]
  },
  {
   "cell_type": "markdown",
   "metadata": {
    "colab_type": "text",
    "id": "-l3cYuEJ1bQ1"
   },
   "source": [
    "<span style=\"font-family: Arial; font-weight:bold;font-size:1.5em;color:#ae09ea;\"> 1.4 Check (Quantile 25%,50%,75%)?"
   ]
  },
  {
   "cell_type": "markdown",
   "metadata": {
    "colab_type": "text",
    "id": "IZ7ktSym1bQ2"
   },
   "source": [
    "#### Quantile 25%"
   ]
  },
  {
   "cell_type": "code",
   "execution_count": 22,
   "metadata": {
    "colab": {},
    "colab_type": "code",
    "id": "IbKqJ_Iy1bQ3"
   },
   "outputs": [
    {
     "name": "stdout",
     "output_type": "stream",
     "text": [
      "28.0\n",
      "56.0\n",
      "2.0\n"
     ]
    },
    {
     "data": {
      "text/plain": [
       "Height    156.0\n",
       "Weight     80.0\n",
       "Index       3.0\n",
       "Name: 0.25, dtype: float64"
      ]
     },
     "execution_count": 22,
     "metadata": {},
     "output_type": "execute_result"
    }
   ],
   "source": [
    "print(df['Height'].quantile(0.75)-df['Height'].quantile(0.25))\n",
    "print(df['Weight'].quantile(0.75)-df['Weight'].quantile(0.25))\n",
    "print(df['Index'].quantile(0.75)-df['Index'].quantile(0.25))\n",
    "df.quantile(0.25)"
   ]
  },
  {
   "cell_type": "markdown",
   "metadata": {
    "colab_type": "text",
    "id": "WgMqehXI1bQ6"
   },
   "source": [
    "#### Quantile 50%"
   ]
  },
  {
   "cell_type": "code",
   "execution_count": 19,
   "metadata": {
    "colab": {},
    "colab_type": "code",
    "id": "lYMOPWeK1bQ6"
   },
   "outputs": [
    {
     "data": {
      "text/plain": [
       "Height    170.5\n",
       "Weight    106.0\n",
       "Index       4.0\n",
       "Name: 0.5, dtype: float64"
      ]
     },
     "execution_count": 19,
     "metadata": {},
     "output_type": "execute_result"
    }
   ],
   "source": [
    "df.quantile(0.5)"
   ]
  },
  {
   "cell_type": "markdown",
   "metadata": {
    "colab_type": "text",
    "id": "DgbZePIJ1bQ9"
   },
   "source": [
    "#### Quantile 75%"
   ]
  },
  {
   "cell_type": "code",
   "execution_count": 21,
   "metadata": {
    "colab": {},
    "colab_type": "code",
    "id": "noj4fSVm1bQ9"
   },
   "outputs": [
    {
     "data": {
      "text/plain": [
       "Height    184.0\n",
       "Weight    136.0\n",
       "Index       5.0\n",
       "Name: 0.75, dtype: float64"
      ]
     },
     "execution_count": 21,
     "metadata": {},
     "output_type": "execute_result"
    }
   ],
   "source": [
    "df.quantile(0.75)"
   ]
  },
  {
   "cell_type": "markdown",
   "metadata": {
    "colab_type": "text",
    "id": "fqi_C-RN1bRA"
   },
   "source": [
    "<span style=\"font-family: Arial; font-weight:bold;font-size:1.5em;color:#ae09ea;\"> 1.5 Measures of Dispersion"
   ]
  },
  {
   "cell_type": "markdown",
   "metadata": {
    "colab_type": "text",
    "id": "K7Zvrt6i1bRB"
   },
   "source": [
    "Measures of Dispersion are measures that indicate how spread the data is, or how they vary. The measures of dispersion are range, variance, standard deviation and the absolute deviation, or mean absolute deviation."
   ]
  },
  {
   "cell_type": "markdown",
   "metadata": {
    "colab_type": "text",
    "id": "0JRF21Vw1bRC"
   },
   "source": [
    "1.5a)  Find out the Range,Variance,Standard Deviation,Absolute Deviation or Mean Absolute Deviation for the 'Height' column of 'train_df' dataset??"
   ]
  },
  {
   "cell_type": "markdown",
   "metadata": {
    "colab_type": "text",
    "id": "Msr7FQEN1bRD"
   },
   "source": [
    "#### Range for height"
   ]
  },
  {
   "cell_type": "code",
   "execution_count": 28,
   "metadata": {
    "colab": {},
    "colab_type": "code",
    "id": "vYUE1J4U1bRE"
   },
   "outputs": [
    {
     "data": {
      "text/plain": [
       "59"
      ]
     },
     "execution_count": 28,
     "metadata": {},
     "output_type": "execute_result"
    }
   ],
   "source": [
    "df['Height'].max()-df['Height'].min()"
   ]
  },
  {
   "cell_type": "markdown",
   "metadata": {
    "colab_type": "text",
    "id": "xLmzux201bRG"
   },
   "source": [
    "#### Variance"
   ]
  },
  {
   "cell_type": "code",
   "execution_count": 30,
   "metadata": {
    "colab": {},
    "colab_type": "code",
    "id": "ch_RDH6A1bRG"
   },
   "outputs": [
    {
     "data": {
      "text/plain": [
       "268.1491623246496"
      ]
     },
     "execution_count": 30,
     "metadata": {},
     "output_type": "execute_result"
    }
   ],
   "source": [
    "df['Height'].var()"
   ]
  },
  {
   "cell_type": "markdown",
   "metadata": {
    "colab_type": "text",
    "id": "_cUxtFbp1bRJ"
   },
   "source": [
    "#### Standard Deviation"
   ]
  },
  {
   "cell_type": "code",
   "execution_count": 31,
   "metadata": {
    "colab": {},
    "colab_type": "code",
    "id": "AaTTuzxr1bRJ"
   },
   "outputs": [
    {
     "data": {
      "text/plain": [
       "16.37526067959376"
      ]
     },
     "execution_count": 31,
     "metadata": {},
     "output_type": "execute_result"
    }
   ],
   "source": [
    "df['Height'].std()"
   ]
  },
  {
   "cell_type": "markdown",
   "metadata": {
    "colab_type": "text",
    "id": "oYYfD1_71bRM"
   },
   "source": [
    "#### Absolute Deviation or Mean Absolute Deviation"
   ]
  },
  {
   "cell_type": "markdown",
   "metadata": {
    "colab_type": "text",
    "id": "V8fC94dZ1bRN"
   },
   "source": [
    "<span style=\"font-family: Arial; font-weight:bold;font-size:1.5em;color:#ae09ea;\"> 1.6 Covariance and Correlation"
   ]
  },
  {
   "cell_type": "markdown",
   "metadata": {
    "colab_type": "text",
    "id": "vmtdKZTs1bRO"
   },
   "source": [
    "1. Covariance is a numerical measure that indicates the inter-dependency between two variables. \n",
    "2. Covariance indicates how two variables behave together in relation to their averages. \n",
    "3. A covariance of 0 indicates that the variables are totally independant, while a high and positive covariance value means that a variable is big when the other is big. Analogously, a negative covariance with a high absolute value means that one variable is big when the other is small.\n",
    "4. Covariance can be calculated through the cov() function. "
   ]
  },
  {
   "cell_type": "markdown",
   "metadata": {
    "colab_type": "text",
    "id": "eaE5_jE71bRP"
   },
   "source": [
    "<span style=\"font-family: Arial; font-weight:bold;font-size:1.2em;color:#ae09ea;\"> 1.6a) Check the Covariance and Correlation scores . write your Observations?"
   ]
  },
  {
   "cell_type": "markdown",
   "metadata": {
    "colab_type": "text",
    "id": "QW5eN0Ok1bRP"
   },
   "source": [
    "#### Covariance"
   ]
  },
  {
   "cell_type": "code",
   "execution_count": 35,
   "metadata": {
    "colab": {},
    "colab_type": "code",
    "id": "9kIr2P3q1bRR"
   },
   "outputs": [
    {
     "data": {
      "text/html": [
       "<div>\n",
       "<style scoped>\n",
       "    .dataframe tbody tr th:only-of-type {\n",
       "        vertical-align: middle;\n",
       "    }\n",
       "\n",
       "    .dataframe tbody tr th {\n",
       "        vertical-align: top;\n",
       "    }\n",
       "\n",
       "    .dataframe thead th {\n",
       "        text-align: right;\n",
       "    }\n",
       "</style>\n",
       "<table border=\"1\" class=\"dataframe\">\n",
       "  <thead>\n",
       "    <tr style=\"text-align: right;\">\n",
       "      <th></th>\n",
       "      <th>Height</th>\n",
       "      <th>Weight</th>\n",
       "      <th>Index</th>\n",
       "    </tr>\n",
       "  </thead>\n",
       "  <tbody>\n",
       "    <tr>\n",
       "      <th>Height</th>\n",
       "      <td>268.149162</td>\n",
       "      <td>0.236473</td>\n",
       "      <td>-9.368850</td>\n",
       "    </tr>\n",
       "    <tr>\n",
       "      <th>Weight</th>\n",
       "      <td>0.236473</td>\n",
       "      <td>1048.633267</td>\n",
       "      <td>35.304609</td>\n",
       "    </tr>\n",
       "    <tr>\n",
       "      <th>Index</th>\n",
       "      <td>-9.368850</td>\n",
       "      <td>35.304609</td>\n",
       "      <td>1.836168</td>\n",
       "    </tr>\n",
       "  </tbody>\n",
       "</table>\n",
       "</div>"
      ],
      "text/plain": [
       "            Height       Weight      Index\n",
       "Height  268.149162     0.236473  -9.368850\n",
       "Weight    0.236473  1048.633267  35.304609\n",
       "Index    -9.368850    35.304609   1.836168"
      ]
     },
     "execution_count": 35,
     "metadata": {},
     "output_type": "execute_result"
    }
   ],
   "source": [
    "df.cov()"
   ]
  },
  {
   "cell_type": "markdown",
   "metadata": {
    "colab_type": "text",
    "id": "8_vZ5q9u1bRT"
   },
   "source": [
    "<span style=\"font-family: Arial; font-weight:bold;font-size:1.1em;color:#ae09ea;\"> Observation:\n",
    "   "
   ]
  },
  {
   "cell_type": "markdown",
   "metadata": {
    "colab": {},
    "colab_type": "code",
    "id": "hTdLLYfW1bRU"
   },
   "source": [
    "* height is positively correlated with weight ie) as the height increase weight also increases.\n",
    "* Height is negatively correlated with index which shows as height increases the index decreases.\n",
    "* Index is positively correlated with weight."
   ]
  },
  {
   "cell_type": "markdown",
   "metadata": {
    "colab_type": "text",
    "id": "2iuE5qSV1bRW"
   },
   "source": [
    "#### Correlation"
   ]
  },
  {
   "cell_type": "code",
   "execution_count": 36,
   "metadata": {
    "colab": {},
    "colab_type": "code",
    "id": "wi3V_PwG1bRW"
   },
   "outputs": [
    {
     "data": {
      "text/html": [
       "<div>\n",
       "<style scoped>\n",
       "    .dataframe tbody tr th:only-of-type {\n",
       "        vertical-align: middle;\n",
       "    }\n",
       "\n",
       "    .dataframe tbody tr th {\n",
       "        vertical-align: top;\n",
       "    }\n",
       "\n",
       "    .dataframe thead th {\n",
       "        text-align: right;\n",
       "    }\n",
       "</style>\n",
       "<table border=\"1\" class=\"dataframe\">\n",
       "  <thead>\n",
       "    <tr style=\"text-align: right;\">\n",
       "      <th></th>\n",
       "      <th>Height</th>\n",
       "      <th>Weight</th>\n",
       "      <th>Index</th>\n",
       "    </tr>\n",
       "  </thead>\n",
       "  <tbody>\n",
       "    <tr>\n",
       "      <th>Height</th>\n",
       "      <td>1.000000</td>\n",
       "      <td>0.000446</td>\n",
       "      <td>-0.422223</td>\n",
       "    </tr>\n",
       "    <tr>\n",
       "      <th>Weight</th>\n",
       "      <td>0.000446</td>\n",
       "      <td>1.000000</td>\n",
       "      <td>0.804569</td>\n",
       "    </tr>\n",
       "    <tr>\n",
       "      <th>Index</th>\n",
       "      <td>-0.422223</td>\n",
       "      <td>0.804569</td>\n",
       "      <td>1.000000</td>\n",
       "    </tr>\n",
       "  </tbody>\n",
       "</table>\n",
       "</div>"
      ],
      "text/plain": [
       "          Height    Weight     Index\n",
       "Height  1.000000  0.000446 -0.422223\n",
       "Weight  0.000446  1.000000  0.804569\n",
       "Index  -0.422223  0.804569  1.000000"
      ]
     },
     "execution_count": 36,
     "metadata": {},
     "output_type": "execute_result"
    }
   ],
   "source": [
    "df.corr()"
   ]
  },
  {
   "cell_type": "markdown",
   "metadata": {
    "colab_type": "text",
    "id": "KUNhywiY1bRY"
   },
   "source": [
    "<span style=\"font-family: Arial; font-weight:bold;font-size:1.1em;color:#ae09ea;\"> Observation:\n",
    "    \n"
   ]
  },
  {
   "cell_type": "markdown",
   "metadata": {
    "colab": {},
    "colab_type": "code",
    "id": "TywGrPR21bRZ"
   },
   "source": [
    "* since heights are same features it is having a correlation of 1.\n",
    "* Height is positively correlated with weight but the strength is very less and closer to 0.\n",
    "* index is highly correlated with weight which is closer to 1 which show high correlation."
   ]
  },
  {
   "cell_type": "markdown",
   "metadata": {
    "colab_type": "text",
    "id": "2b8NKdwv1bRb"
   },
   "source": [
    "\n",
    "<span style=\"font-family: Arial; font-weight:bold;font-size:1.9em;color:#ae09ea;\">Case Study 2"
   ]
  },
  {
   "cell_type": "markdown",
   "metadata": {
    "colab_type": "text",
    "id": "z2X8HxvC1bRc"
   },
   "source": [
    "\n",
    "<span style=\"font-family: Arial; font-weight:bold;font-size:1.5em;color:#ae09ea;\">About the dataset:<span style=\"font-family: Arial; font-weight:bold;font-size:1em;color:red;\">(Motor Trend US Magazine)"
   ]
  },
  {
   "cell_type": "markdown",
   "metadata": {
    "colab_type": "raw",
    "id": "k3DAsPCU1bRd"
   },
   "source": [
    "The data was extracted from the 1974 Motor Trend US magazine, and comprises fuel consumption and 10 aspects of automobile design and performance for 32 automobiles (1973–74 models)\n",
    "\n",
    "A data frame with 32 observations on 11 (numeric) variables.\n",
    "* model= carmodels\n",
    "* mpg =\tMiles/(US) gallon\n",
    "* cyl =\tNumber of cylinders\n",
    "* disp=\tDisplacement (cu.in.)\n",
    "* hp  =Gross horsepower\n",
    "* drat=\tRear axle ratio\n",
    "* wt  =Weight (1000 lbs)\n",
    "* qsec=1/4 mile time\n",
    "* vs  =Engine (0 = V-shaped, 1 = straight)\n",
    "* am  =Transmission (0 = automatic, 1 = manual)\n",
    "* gear=\tNumber of forward gears\n",
    "* carb=\tNumber of carburetors"
   ]
  },
  {
   "cell_type": "markdown",
   "metadata": {
    "colab_type": "text",
    "id": "NZNKIlNV1bRd"
   },
   "source": [
    "\n",
    "<span style=\"font-family: Arial; font-weight:bold;font-size:1.5em;color:#ae09ea;\"> 2.1. Importing the dataset(mtcars.csv.csv):"
   ]
  },
  {
   "cell_type": "code",
   "execution_count": 237,
   "metadata": {
    "colab": {},
    "colab_type": "code",
    "id": "YlHHgpx41bRe"
   },
   "outputs": [],
   "source": [
    "mcars=pd.read_csv('mtcars.csv')"
   ]
  },
  {
   "cell_type": "markdown",
   "metadata": {
    "colab_type": "text",
    "id": "qz2SuMG91bRg"
   },
   "source": [
    "<span style=\"font-family: Arial; font-weight:bold;font-size:1.5em;color:#ae09ea;\"> 2.2 check the mtcars.describe()?"
   ]
  },
  {
   "cell_type": "code",
   "execution_count": 238,
   "metadata": {
    "colab": {},
    "colab_type": "code",
    "id": "xt309CAw1bRh"
   },
   "outputs": [
    {
     "data": {
      "text/html": [
       "<div>\n",
       "<style scoped>\n",
       "    .dataframe tbody tr th:only-of-type {\n",
       "        vertical-align: middle;\n",
       "    }\n",
       "\n",
       "    .dataframe tbody tr th {\n",
       "        vertical-align: top;\n",
       "    }\n",
       "\n",
       "    .dataframe thead th {\n",
       "        text-align: right;\n",
       "    }\n",
       "</style>\n",
       "<table border=\"1\" class=\"dataframe\">\n",
       "  <thead>\n",
       "    <tr style=\"text-align: right;\">\n",
       "      <th></th>\n",
       "      <th>mpg</th>\n",
       "      <th>cyl</th>\n",
       "      <th>disp</th>\n",
       "      <th>hp</th>\n",
       "      <th>drat</th>\n",
       "      <th>wt</th>\n",
       "      <th>qsec</th>\n",
       "      <th>vs</th>\n",
       "      <th>am</th>\n",
       "      <th>gear</th>\n",
       "      <th>carb</th>\n",
       "    </tr>\n",
       "  </thead>\n",
       "  <tbody>\n",
       "    <tr>\n",
       "      <th>count</th>\n",
       "      <td>32.000000</td>\n",
       "      <td>32.000000</td>\n",
       "      <td>32.000000</td>\n",
       "      <td>32.000000</td>\n",
       "      <td>32.000000</td>\n",
       "      <td>32.000000</td>\n",
       "      <td>32.000000</td>\n",
       "      <td>32.000000</td>\n",
       "      <td>32.000000</td>\n",
       "      <td>32.000000</td>\n",
       "      <td>32.0000</td>\n",
       "    </tr>\n",
       "    <tr>\n",
       "      <th>mean</th>\n",
       "      <td>20.090625</td>\n",
       "      <td>6.187500</td>\n",
       "      <td>230.721875</td>\n",
       "      <td>146.687500</td>\n",
       "      <td>3.596563</td>\n",
       "      <td>3.217250</td>\n",
       "      <td>17.848750</td>\n",
       "      <td>0.437500</td>\n",
       "      <td>0.406250</td>\n",
       "      <td>3.687500</td>\n",
       "      <td>2.8125</td>\n",
       "    </tr>\n",
       "    <tr>\n",
       "      <th>std</th>\n",
       "      <td>6.026948</td>\n",
       "      <td>1.785922</td>\n",
       "      <td>123.938694</td>\n",
       "      <td>68.562868</td>\n",
       "      <td>0.534679</td>\n",
       "      <td>0.978457</td>\n",
       "      <td>1.786943</td>\n",
       "      <td>0.504016</td>\n",
       "      <td>0.498991</td>\n",
       "      <td>0.737804</td>\n",
       "      <td>1.6152</td>\n",
       "    </tr>\n",
       "    <tr>\n",
       "      <th>min</th>\n",
       "      <td>10.400000</td>\n",
       "      <td>4.000000</td>\n",
       "      <td>71.100000</td>\n",
       "      <td>52.000000</td>\n",
       "      <td>2.760000</td>\n",
       "      <td>1.513000</td>\n",
       "      <td>14.500000</td>\n",
       "      <td>0.000000</td>\n",
       "      <td>0.000000</td>\n",
       "      <td>3.000000</td>\n",
       "      <td>1.0000</td>\n",
       "    </tr>\n",
       "    <tr>\n",
       "      <th>25%</th>\n",
       "      <td>15.425000</td>\n",
       "      <td>4.000000</td>\n",
       "      <td>120.825000</td>\n",
       "      <td>96.500000</td>\n",
       "      <td>3.080000</td>\n",
       "      <td>2.581250</td>\n",
       "      <td>16.892500</td>\n",
       "      <td>0.000000</td>\n",
       "      <td>0.000000</td>\n",
       "      <td>3.000000</td>\n",
       "      <td>2.0000</td>\n",
       "    </tr>\n",
       "    <tr>\n",
       "      <th>50%</th>\n",
       "      <td>19.200000</td>\n",
       "      <td>6.000000</td>\n",
       "      <td>196.300000</td>\n",
       "      <td>123.000000</td>\n",
       "      <td>3.695000</td>\n",
       "      <td>3.325000</td>\n",
       "      <td>17.710000</td>\n",
       "      <td>0.000000</td>\n",
       "      <td>0.000000</td>\n",
       "      <td>4.000000</td>\n",
       "      <td>2.0000</td>\n",
       "    </tr>\n",
       "    <tr>\n",
       "      <th>75%</th>\n",
       "      <td>22.800000</td>\n",
       "      <td>8.000000</td>\n",
       "      <td>326.000000</td>\n",
       "      <td>180.000000</td>\n",
       "      <td>3.920000</td>\n",
       "      <td>3.610000</td>\n",
       "      <td>18.900000</td>\n",
       "      <td>1.000000</td>\n",
       "      <td>1.000000</td>\n",
       "      <td>4.000000</td>\n",
       "      <td>4.0000</td>\n",
       "    </tr>\n",
       "    <tr>\n",
       "      <th>max</th>\n",
       "      <td>33.900000</td>\n",
       "      <td>8.000000</td>\n",
       "      <td>472.000000</td>\n",
       "      <td>335.000000</td>\n",
       "      <td>4.930000</td>\n",
       "      <td>5.424000</td>\n",
       "      <td>22.900000</td>\n",
       "      <td>1.000000</td>\n",
       "      <td>1.000000</td>\n",
       "      <td>5.000000</td>\n",
       "      <td>8.0000</td>\n",
       "    </tr>\n",
       "  </tbody>\n",
       "</table>\n",
       "</div>"
      ],
      "text/plain": [
       "             mpg        cyl        disp          hp       drat         wt  \\\n",
       "count  32.000000  32.000000   32.000000   32.000000  32.000000  32.000000   \n",
       "mean   20.090625   6.187500  230.721875  146.687500   3.596563   3.217250   \n",
       "std     6.026948   1.785922  123.938694   68.562868   0.534679   0.978457   \n",
       "min    10.400000   4.000000   71.100000   52.000000   2.760000   1.513000   \n",
       "25%    15.425000   4.000000  120.825000   96.500000   3.080000   2.581250   \n",
       "50%    19.200000   6.000000  196.300000  123.000000   3.695000   3.325000   \n",
       "75%    22.800000   8.000000  326.000000  180.000000   3.920000   3.610000   \n",
       "max    33.900000   8.000000  472.000000  335.000000   4.930000   5.424000   \n",
       "\n",
       "            qsec         vs         am       gear     carb  \n",
       "count  32.000000  32.000000  32.000000  32.000000  32.0000  \n",
       "mean   17.848750   0.437500   0.406250   3.687500   2.8125  \n",
       "std     1.786943   0.504016   0.498991   0.737804   1.6152  \n",
       "min    14.500000   0.000000   0.000000   3.000000   1.0000  \n",
       "25%    16.892500   0.000000   0.000000   3.000000   2.0000  \n",
       "50%    17.710000   0.000000   0.000000   4.000000   2.0000  \n",
       "75%    18.900000   1.000000   1.000000   4.000000   4.0000  \n",
       "max    22.900000   1.000000   1.000000   5.000000   8.0000  "
      ]
     },
     "execution_count": 238,
     "metadata": {},
     "output_type": "execute_result"
    }
   ],
   "source": [
    "mcars.describe()"
   ]
  },
  {
   "cell_type": "markdown",
   "metadata": {
    "colab_type": "text",
    "id": "mMKAQL8h1bRj"
   },
   "source": [
    "<span style=\"font-family: Arial; font-weight:bold;font-size:1.5em;color:#ae09ea;\">2.3  create a boxplot to visualize the five point summary and IQR. Write your Observations?"
   ]
  },
  {
   "cell_type": "code",
   "execution_count": 239,
   "metadata": {
    "colab": {},
    "colab_type": "code",
    "id": "z_n2uniS1bRk"
   },
   "outputs": [
    {
     "data": {
      "text/plain": [
       "<matplotlib.axes._subplots.AxesSubplot at 0x2051b991648>"
      ]
     },
     "execution_count": 239,
     "metadata": {},
     "output_type": "execute_result"
    },
    {
     "data": {
      "image/png": "[encoded data removed]",
      "text/plain": [
       "<Figure size 432x288 with 1 Axes>"
      ]
     },
     "metadata": {
      "needs_background": "light"
     },
     "output_type": "display_data"
    }
   ],
   "source": [
    "# Create boxplot for column=\"mpg\"\n",
    "\n",
    "# create text(x=0.74, y=22.25, s=\"3rd Quartile\")like Median, 1st Quartile,Min,Max,IQR:\n",
    "sns.boxplot(mcars['mpg'])\n"
   ]
  },
  {
   "cell_type": "code",
   "execution_count": 240,
   "metadata": {},
   "outputs": [],
   "source": [
    "IQR = mcars.quantile(0.75)-mcars.quantile(0.25)"
   ]
  },
  {
   "cell_type": "code",
   "execution_count": 241,
   "metadata": {},
   "outputs": [
    {
     "data": {
      "text/plain": [
       "mpg       7.37500\n",
       "cyl       4.00000\n",
       "disp    205.17500\n",
       "hp       83.50000\n",
       "drat      0.84000\n",
       "wt        1.02875\n",
       "qsec      2.00750\n",
       "vs        1.00000\n",
       "am        1.00000\n",
       "gear      1.00000\n",
       "carb      2.00000\n",
       "dtype: float64"
      ]
     },
     "execution_count": 241,
     "metadata": {},
     "output_type": "execute_result"
    }
   ],
   "source": [
    "IQR"
   ]
  },
  {
   "cell_type": "markdown",
   "metadata": {
    "colab_type": "text",
    "id": "Fy8ihjtd1bRn"
   },
   "source": [
    "<span style=\"font-family: Arial; font-weight:bold;font-size:1.1em;color:#ae09ea;\"> Observation:\n"
   ]
  },
  {
   "cell_type": "markdown",
   "metadata": {
    "colab": {},
    "colab_type": "code",
    "id": "i9NxYV_w1bRn"
   },
   "source": [
    "* The IQR range of the mpg column is between 10 and 32\n",
    "* The 25% of all the values are under 12.\n",
    "* The median of the value lies in 18\n",
    "* the 75% of values lies under 23.\n",
    "* one outlier can be found at the range of 34."
   ]
  },
  {
   "cell_type": "markdown",
   "metadata": {
    "colab_type": "text",
    "id": "ZvzlHmFv1bRq"
   },
   "source": [
    "<span style=\"font-family: Arial; font-weight:bold;font-size:1.5em;color:#ae09ea;\"> 2.4 Creat New random.normal(size=100000) to visualize mean and median on a density plot . write your Observations ?"
   ]
  },
  {
   "cell_type": "code",
   "execution_count": 46,
   "metadata": {
    "colab": {},
    "colab_type": "code",
    "id": "kuO-J3Jj1bRr"
   },
   "outputs": [
    {
     "data": {
      "text/plain": [
       "array([-0.82332718,  0.78981057, -1.06481287, ..., -0.51569583,\n",
       "        0.1322007 ,  0.27326363])"
      ]
     },
     "execution_count": 46,
     "metadata": {},
     "output_type": "execute_result"
    }
   ],
   "source": [
    "# Create New random.normal(size=100000)\n",
    "\n",
    "\n",
    "# create density plot new data:\n",
    "\n",
    "# create a red line plot for mean on the density plot:\n",
    "\n",
    "## create a green line plot for median on the density plot:\n",
    "\n",
    "norm=np.random.randn(100000)"
   ]
  },
  {
   "cell_type": "code",
   "execution_count": 50,
   "metadata": {},
   "outputs": [
    {
     "data": {
      "text/plain": [
       "<matplotlib.legend.Legend at 0x20514657808>"
      ]
     },
     "execution_count": 50,
     "metadata": {},
     "output_type": "execute_result"
    },
    {
     "data": {
      "image/png": "[encoded data removed]",
      "text/plain": [
       "<Figure size 432x288 with 1 Axes>"
      ]
     },
     "metadata": {
      "needs_background": "light"
     },
     "output_type": "display_data"
    }
   ],
   "source": [
    "sns.distplot(norm)\n",
    "plt.axvline(norm.mean(),label='mean',color='red')\n",
    "plt.axvline(norm.mean(),label='median',color='green')\n",
    "plt.legend()"
   ]
  },
  {
   "cell_type": "markdown",
   "metadata": {
    "colab_type": "text",
    "id": "rUt8qt4Q1bRt"
   },
   "source": [
    "<span style=\"font-family: Arial; font-weight:bold;font-size:1.1em;color:#ae09ea;\"> Observation:\n",
    "\n"
   ]
  },
  {
   "cell_type": "markdown",
   "metadata": {
    "colab": {},
    "colab_type": "code",
    "id": "dR8ExCJz1bRu"
   },
   "source": [
    "* Since in normal distribution the values are equally shared on both sides hence mean and median are having the same value.\n",
    "* Most of the values are found within 3 standard distributions of the plot."
   ]
  },
  {
   "cell_type": "markdown",
   "metadata": {
    "colab_type": "text",
    "id": "YDEa0tdk1bRw"
   },
   "source": [
    "<span style=\"font-family: Arial; font-weight:bold;font-size:1.5em;color:#ae09ea;\">2.5 Create New skewed_data random.exponential(size=100000) to visualize mean and median on a density plot.  write your Observations?"
   ]
  },
  {
   "cell_type": "code",
   "execution_count": 252,
   "metadata": {
    "colab": {},
    "colab_type": "code",
    "id": "ZhgKUH9q1bRy"
   },
   "outputs": [
    {
     "name": "stderr",
     "output_type": "stream",
     "text": [
      "C:\\Users\\Anish\\Anaconda3\\lib\\site-packages\\seaborn\\distributions.py:283: UserWarning: Data must have variance to compute a kernel density estimate.\n",
      "  warnings.warn(msg, UserWarning)\n"
     ]
    },
    {
     "data": {
      "image/png": "[encoded data removed]",
      "text/plain": [
       "<Figure size 432x288 with 1 Axes>"
      ]
     },
     "metadata": {
      "needs_background": "light"
     },
     "output_type": "display_data"
    }
   ],
   "source": [
    "# create skewed_data exponential(size=100000)):\n",
    "\n",
    "skewed_data=np.random.exponential(100000)\n",
    "\n",
    "#create density plot for skewed_data:\n",
    "\n",
    "sns.distplot(skewed_data)\n",
    "\n",
    "# create a red line plot for mean  on the density plot:\n",
    "\n",
    "plt.axvline(np.mean(skewed_data),color='red')\n",
    "\n",
    "## create a green line plot for median  on the density plot:\n",
    "\n",
    "plt.axvline(np.median(skewed_data),color='green')\n",
    "plt.show()"
   ]
  },
  {
   "cell_type": "markdown",
   "metadata": {
    "colab_type": "text",
    "id": "0kKKImLU1bR1"
   },
   "source": [
    "<span style=\"font-family: Arial; font-weight:bold;font-size:1.1em;color:#ae09ea;\"> Observation:\n",
    "\n"
   ]
  },
  {
   "cell_type": "code",
   "execution_count": 0,
   "metadata": {
    "colab": {},
    "colab_type": "code",
    "id": "Qo0m1QQn1bR1"
   },
   "outputs": [],
   "source": []
  },
  {
   "cell_type": "markdown",
   "metadata": {
    "colab_type": "text",
    "id": "2ckg5XWM1bR6"
   },
   "source": [
    "<span style=\"font-family: Arial; font-weight:bold;font-size:1.5em;color:#ae09ea;\"> 2.6 Create both (Newdata,outliers data ) using random.normal(size=50) to visualize mean and median on a density plot.  write your Observations?"
   ]
  },
  {
   "cell_type": "code",
   "execution_count": 82,
   "metadata": {
    "colab": {},
    "colab_type": "code",
    "id": "MKebfkeY1bR7",
    "scrolled": true
   },
   "outputs": [
    {
     "data": {
      "text/plain": [
       "<matplotlib.lines.Line2D at 0x20517cb7708>"
      ]
     },
     "execution_count": 82,
     "metadata": {},
     "output_type": "execute_result"
    },
    {
     "data": {
      "image/png": "[encoded data removed]",
      "text/plain": [
       "<Figure size 432x288 with 1 Axes>"
      ]
     },
     "metadata": {
      "needs_background": "light"
     },
     "output_type": "display_data"
    }
   ],
   "source": [
    "# create a normally distributed data with mean 0 using random.normal(size=50) \n",
    "\n",
    "norm=np.random.randn(50)\n",
    "\n",
    "# create a additional outlier data uwith mean >=10 using random.normal(loc=10 size=15) \n",
    "\n",
    "out=np.random.normal(loc=10,size=15)\n",
    "\n",
    "# Concatenate both the data sets\n",
    "\n",
    "l=np.append(norm,out)\n",
    "\n",
    "# Create a density plot\n",
    "\n",
    "sns.distplot(l)\n",
    "\n",
    "# create a red line plot for mean on the density plot:\n",
    "\n",
    "plt.axvline(np.mean(l),color='red')\n",
    "\n",
    "# create a green line plot for median on the density plot:\n",
    "\n",
    "plt.axvline(np.median(l),color='green')"
   ]
  },
  {
   "cell_type": "markdown",
   "metadata": {
    "colab_type": "text",
    "id": "X9SR-KCZ1bR9"
   },
   "source": [
    "<span style=\"font-family: Arial; font-weight:bold;font-size:1.1em;color:#ae09ea;\">Observations:\n",
    "\n"
   ]
  },
  {
   "cell_type": "code",
   "execution_count": 0,
   "metadata": {
    "colab": {},
    "colab_type": "code",
    "id": "sKnNS4M-1bR-"
   },
   "outputs": [],
   "source": []
  },
  {
   "cell_type": "markdown",
   "metadata": {
    "colab_type": "text",
    "id": "Hdkc1O3F1bR_"
   },
   "source": [
    "<span style=\"font-family: Arial; font-weight:bold;font-size:1.5em;color:#ae09ea;\"> 2.7. Skewness and Kurtosis\n",
    "\n",
    "Beyond measures of center and spread, descriptive statistics include measures that give you a sense of the shape of a distribution. Skewness measures the skew or asymmetry of a distribution while kurtosis measures the \"peakedness\" of a distribution. "
   ]
  },
  {
   "cell_type": "markdown",
   "metadata": {
    "colab_type": "text",
    "id": "yZ0fWjxe1bSA"
   },
   "source": [
    "<span style=\"font-family: Arial; font-weight:bold;font-size:1.2em;color:#ae09ea;\"> 2.7a) Check the Skewness,Kurtosis for mtcars[\"mpg\"]?"
   ]
  },
  {
   "cell_type": "markdown",
   "metadata": {
    "colab_type": "text",
    "id": "WvkD_BoC1bSB"
   },
   "source": [
    "#### Skewness"
   ]
  },
  {
   "cell_type": "code",
   "execution_count": 83,
   "metadata": {
    "colab": {},
    "colab_type": "code",
    "id": "R92lFmZ51bSB"
   },
   "outputs": [
    {
     "data": {
      "text/plain": [
       "0.6723771376290805"
      ]
     },
     "execution_count": 83,
     "metadata": {},
     "output_type": "execute_result"
    }
   ],
   "source": [
    "mcars['mpg'].skew()"
   ]
  },
  {
   "cell_type": "markdown",
   "metadata": {
    "colab_type": "text",
    "id": "-OFu1bC71bSD"
   },
   "source": [
    "#### Kurtosis"
   ]
  },
  {
   "cell_type": "code",
   "execution_count": 84,
   "metadata": {
    "colab": {},
    "colab_type": "code",
    "id": "qdeJAHXS1bSF"
   },
   "outputs": [
    {
     "data": {
      "text/plain": [
       "-0.0220062914240855"
      ]
     },
     "execution_count": 84,
     "metadata": {},
     "output_type": "execute_result"
    }
   ],
   "source": [
    "mcars['mpg'].kurt()"
   ]
  },
  {
   "cell_type": "markdown",
   "metadata": {
    "colab_type": "text",
    "id": "qS6z43nS1bSH"
   },
   "source": [
    "<span style=\"font-family: Arial; font-weight:bold;font-size:1.2em;color:#ae09ea;\">2.7b) To explore these two measures further, let's first create some dummy data (norm_data, skewed_data, uniform_data, peaked_data) and inspect it ?"
   ]
  },
  {
   "cell_type": "code",
   "execution_count": 251,
   "metadata": {
    "colab": {},
    "colab_type": "code",
    "id": "JoXcu9oA1bSc"
   },
   "outputs": [
    {
     "data": {
      "image/png": "[encoded data removed]",
      "text/plain": [
       "<Figure size 432x288 with 1 Axes>"
      ]
     },
     "metadata": {
      "needs_background": "light"
     },
     "output_type": "display_data"
    },
    {
     "data": {
      "image/png": "[encoded data removed]",
      "text/plain": [
       "<Figure size 432x288 with 1 Axes>"
      ]
     },
     "metadata": {
      "needs_background": "light"
     },
     "output_type": "display_data"
    },
    {
     "data": {
      "image/png": "[encoded data removed]",
      "text/plain": [
       "<Figure size 432x288 with 1 Axes>"
      ]
     },
     "metadata": {
      "needs_background": "light"
     },
     "output_type": "display_data"
    },
    {
     "data": {
      "image/png": "[encoded data removed]",
      "text/plain": [
       "<Figure size 432x288 with 1 Axes>"
      ]
     },
     "metadata": {
      "needs_background": "light"
     },
     "output_type": "display_data"
    }
   ],
   "source": [
    "# Create a normally distributed data \n",
    "\n",
    "norm_data=np.random.normal(size=10000)\n",
    "\n",
    "# Create a skewed_data like np.concatenate((np.random.normal(size=35000)+2,np.random.exponential(size=65000)),axis=0)\n",
    "\n",
    "skewed_data=np.concatenate((np.random.normal(size=35000)+2,np.random.exponential(size=65000)))\n",
    "\n",
    "# create uniform_data like uniform(0,2, size=100000)\n",
    "\n",
    "uniform_data=np.random.uniform(0,2,size=100000)\n",
    "\n",
    "# create peaked_data np.concatenate((np.random.exponential(size=50000),np.random.exponential(size=50000)*(-1)),axis=0)\n",
    "\n",
    "peaked_data=np.concatenate((np.random.exponential(size=50000),np.random.exponential(size=50000)*(-1)))\n",
    "\n",
    "# create density plot for (norm_data,skewed_data,uniform_data,peaked_data)\n",
    "\n",
    "l=[norm_data,skewed_data,uniform_data,peaked_data]\n",
    "for i in l:\n",
    "        sns.distplot(i)\n",
    "        plt.show()\n"
   ]
  },
  {
   "cell_type": "code",
   "execution_count": 249,
   "metadata": {
    "colab": {},
    "colab_type": "code",
    "id": "R1XhL2QS1bSe",
    "scrolled": true
   },
   "outputs": [
    {
     "data": {
      "text/plain": [
       "(10000,)"
      ]
     },
     "execution_count": 249,
     "metadata": {},
     "output_type": "execute_result"
    }
   ],
   "source": [
    "# Plot all the four data distributions and observe how they look\n",
    "norm_data.shape"
   ]
  },
  {
   "cell_type": "markdown",
   "metadata": {
    "colab_type": "text",
    "id": "0XAJ1C0t1bSk"
   },
   "source": [
    "<span style=\"font-family: Arial; font-weight:bold;font-size:1.1em;color:#ae09ea;\"> Observation:\n",
    "\n"
   ]
  },
  {
   "cell_type": "code",
   "execution_count": 0,
   "metadata": {
    "colab": {},
    "colab_type": "code",
    "id": "_Vgocyng1bSk"
   },
   "outputs": [],
   "source": []
  },
  {
   "cell_type": "markdown",
   "metadata": {
    "colab_type": "text",
    "id": "HxjahEi_1bSm"
   },
   "source": [
    "<span style=\"font-family: Arial; font-weight:bold;font-size:1.2em;color:#ae09ea;\">2.7c) Lets check Skewness and Kurtosis for dummy data. Write your observations ?"
   ]
  },
  {
   "cell_type": "code",
   "execution_count": 0,
   "metadata": {
    "colab": {},
    "colab_type": "code",
    "id": "jbXeCtk31bSn"
   },
   "outputs": [],
   "source": []
  },
  {
   "cell_type": "markdown",
   "metadata": {
    "colab_type": "text",
    "id": "VreIpFX51bSp"
   },
   "source": [
    "<span style=\"font-family: Arial; font-weight:bold;font-size:1.1em;color:#ae09ea;\"> Observation:\n"
   ]
  },
  {
   "cell_type": "code",
   "execution_count": 149,
   "metadata": {
    "colab": {},
    "colab_type": "code",
    "id": "xYx-xpho1bSp"
   },
   "outputs": [],
   "source": [
    "df=sns.load_dataset('iris')"
   ]
  },
  {
   "cell_type": "code",
   "execution_count": 150,
   "metadata": {},
   "outputs": [
    {
     "data": {
      "text/html": [
       "<div>\n",
       "<style scoped>\n",
       "    .dataframe tbody tr th:only-of-type {\n",
       "        vertical-align: middle;\n",
       "    }\n",
       "\n",
       "    .dataframe tbody tr th {\n",
       "        vertical-align: top;\n",
       "    }\n",
       "\n",
       "    .dataframe thead th {\n",
       "        text-align: right;\n",
       "    }\n",
       "</style>\n",
       "<table border=\"1\" class=\"dataframe\">\n",
       "  <thead>\n",
       "    <tr style=\"text-align: right;\">\n",
       "      <th></th>\n",
       "      <th>sepal_length</th>\n",
       "      <th>sepal_width</th>\n",
       "      <th>petal_length</th>\n",
       "      <th>petal_width</th>\n",
       "      <th>species</th>\n",
       "    </tr>\n",
       "  </thead>\n",
       "  <tbody>\n",
       "    <tr>\n",
       "      <th>0</th>\n",
       "      <td>5.1</td>\n",
       "      <td>3.5</td>\n",
       "      <td>1.4</td>\n",
       "      <td>0.2</td>\n",
       "      <td>setosa</td>\n",
       "    </tr>\n",
       "    <tr>\n",
       "      <th>1</th>\n",
       "      <td>4.9</td>\n",
       "      <td>3.0</td>\n",
       "      <td>1.4</td>\n",
       "      <td>0.2</td>\n",
       "      <td>setosa</td>\n",
       "    </tr>\n",
       "    <tr>\n",
       "      <th>2</th>\n",
       "      <td>4.7</td>\n",
       "      <td>3.2</td>\n",
       "      <td>1.3</td>\n",
       "      <td>0.2</td>\n",
       "      <td>setosa</td>\n",
       "    </tr>\n",
       "    <tr>\n",
       "      <th>3</th>\n",
       "      <td>4.6</td>\n",
       "      <td>3.1</td>\n",
       "      <td>1.5</td>\n",
       "      <td>0.2</td>\n",
       "      <td>setosa</td>\n",
       "    </tr>\n",
       "    <tr>\n",
       "      <th>4</th>\n",
       "      <td>5.0</td>\n",
       "      <td>3.6</td>\n",
       "      <td>1.4</td>\n",
       "      <td>0.2</td>\n",
       "      <td>setosa</td>\n",
       "    </tr>\n",
       "  </tbody>\n",
       "</table>\n",
       "</div>"
      ],
      "text/plain": [
       "   sepal_length  sepal_width  petal_length  petal_width species\n",
       "0           5.1          3.5           1.4          0.2  setosa\n",
       "1           4.9          3.0           1.4          0.2  setosa\n",
       "2           4.7          3.2           1.3          0.2  setosa\n",
       "3           4.6          3.1           1.5          0.2  setosa\n",
       "4           5.0          3.6           1.4          0.2  setosa"
      ]
     },
     "execution_count": 150,
     "metadata": {},
     "output_type": "execute_result"
    }
   ],
   "source": [
    "df.head()"
   ]
  },
  {
   "cell_type": "code",
   "execution_count": 102,
   "metadata": {},
   "outputs": [],
   "source": [
    "from sklearn.preprocessing import LabelEncoder"
   ]
  },
  {
   "cell_type": "code",
   "execution_count": 104,
   "metadata": {},
   "outputs": [],
   "source": [
    "le=LabelEncoder()"
   ]
  },
  {
   "cell_type": "code",
   "execution_count": 105,
   "metadata": {},
   "outputs": [],
   "source": [
    "df['species le']=le.fit_transform(df['species'])"
   ]
  },
  {
   "cell_type": "code",
   "execution_count": 106,
   "metadata": {},
   "outputs": [
    {
     "data": {
      "text/html": [
       "<div>\n",
       "<style scoped>\n",
       "    .dataframe tbody tr th:only-of-type {\n",
       "        vertical-align: middle;\n",
       "    }\n",
       "\n",
       "    .dataframe tbody tr th {\n",
       "        vertical-align: top;\n",
       "    }\n",
       "\n",
       "    .dataframe thead th {\n",
       "        text-align: right;\n",
       "    }\n",
       "</style>\n",
       "<table border=\"1\" class=\"dataframe\">\n",
       "  <thead>\n",
       "    <tr style=\"text-align: right;\">\n",
       "      <th></th>\n",
       "      <th>sepal_length</th>\n",
       "      <th>sepal_width</th>\n",
       "      <th>petal_length</th>\n",
       "      <th>petal_width</th>\n",
       "      <th>species</th>\n",
       "      <th>species le</th>\n",
       "    </tr>\n",
       "  </thead>\n",
       "  <tbody>\n",
       "    <tr>\n",
       "      <th>0</th>\n",
       "      <td>5.1</td>\n",
       "      <td>3.5</td>\n",
       "      <td>1.4</td>\n",
       "      <td>0.2</td>\n",
       "      <td>setosa</td>\n",
       "      <td>0</td>\n",
       "    </tr>\n",
       "    <tr>\n",
       "      <th>1</th>\n",
       "      <td>4.9</td>\n",
       "      <td>3.0</td>\n",
       "      <td>1.4</td>\n",
       "      <td>0.2</td>\n",
       "      <td>setosa</td>\n",
       "      <td>0</td>\n",
       "    </tr>\n",
       "    <tr>\n",
       "      <th>2</th>\n",
       "      <td>4.7</td>\n",
       "      <td>3.2</td>\n",
       "      <td>1.3</td>\n",
       "      <td>0.2</td>\n",
       "      <td>setosa</td>\n",
       "      <td>0</td>\n",
       "    </tr>\n",
       "    <tr>\n",
       "      <th>3</th>\n",
       "      <td>4.6</td>\n",
       "      <td>3.1</td>\n",
       "      <td>1.5</td>\n",
       "      <td>0.2</td>\n",
       "      <td>setosa</td>\n",
       "      <td>0</td>\n",
       "    </tr>\n",
       "    <tr>\n",
       "      <th>4</th>\n",
       "      <td>5.0</td>\n",
       "      <td>3.6</td>\n",
       "      <td>1.4</td>\n",
       "      <td>0.2</td>\n",
       "      <td>setosa</td>\n",
       "      <td>0</td>\n",
       "    </tr>\n",
       "    <tr>\n",
       "      <th>...</th>\n",
       "      <td>...</td>\n",
       "      <td>...</td>\n",
       "      <td>...</td>\n",
       "      <td>...</td>\n",
       "      <td>...</td>\n",
       "      <td>...</td>\n",
       "    </tr>\n",
       "    <tr>\n",
       "      <th>145</th>\n",
       "      <td>6.7</td>\n",
       "      <td>3.0</td>\n",
       "      <td>5.2</td>\n",
       "      <td>2.3</td>\n",
       "      <td>virginica</td>\n",
       "      <td>2</td>\n",
       "    </tr>\n",
       "    <tr>\n",
       "      <th>146</th>\n",
       "      <td>6.3</td>\n",
       "      <td>2.5</td>\n",
       "      <td>5.0</td>\n",
       "      <td>1.9</td>\n",
       "      <td>virginica</td>\n",
       "      <td>2</td>\n",
       "    </tr>\n",
       "    <tr>\n",
       "      <th>147</th>\n",
       "      <td>6.5</td>\n",
       "      <td>3.0</td>\n",
       "      <td>5.2</td>\n",
       "      <td>2.0</td>\n",
       "      <td>virginica</td>\n",
       "      <td>2</td>\n",
       "    </tr>\n",
       "    <tr>\n",
       "      <th>148</th>\n",
       "      <td>6.2</td>\n",
       "      <td>3.4</td>\n",
       "      <td>5.4</td>\n",
       "      <td>2.3</td>\n",
       "      <td>virginica</td>\n",
       "      <td>2</td>\n",
       "    </tr>\n",
       "    <tr>\n",
       "      <th>149</th>\n",
       "      <td>5.9</td>\n",
       "      <td>3.0</td>\n",
       "      <td>5.1</td>\n",
       "      <td>1.8</td>\n",
       "      <td>virginica</td>\n",
       "      <td>2</td>\n",
       "    </tr>\n",
       "  </tbody>\n",
       "</table>\n",
       "<p>150 rows × 6 columns</p>\n",
       "</div>"
      ],
      "text/plain": [
       "     sepal_length  sepal_width  petal_length  petal_width    species  \\\n",
       "0             5.1          3.5           1.4          0.2     setosa   \n",
       "1             4.9          3.0           1.4          0.2     setosa   \n",
       "2             4.7          3.2           1.3          0.2     setosa   \n",
       "3             4.6          3.1           1.5          0.2     setosa   \n",
       "4             5.0          3.6           1.4          0.2     setosa   \n",
       "..            ...          ...           ...          ...        ...   \n",
       "145           6.7          3.0           5.2          2.3  virginica   \n",
       "146           6.3          2.5           5.0          1.9  virginica   \n",
       "147           6.5          3.0           5.2          2.0  virginica   \n",
       "148           6.2          3.4           5.4          2.3  virginica   \n",
       "149           5.9          3.0           5.1          1.8  virginica   \n",
       "\n",
       "     species le  \n",
       "0             0  \n",
       "1             0  \n",
       "2             0  \n",
       "3             0  \n",
       "4             0  \n",
       "..          ...  \n",
       "145           2  \n",
       "146           2  \n",
       "147           2  \n",
       "148           2  \n",
       "149           2  \n",
       "\n",
       "[150 rows x 6 columns]"
      ]
     },
     "execution_count": 106,
     "metadata": {},
     "output_type": "execute_result"
    }
   ],
   "source": [
    "df"
   ]
  },
  {
   "cell_type": "code",
   "execution_count": 151,
   "metadata": {},
   "outputs": [],
   "source": [
    "from sklearn.preprocessing import minmax_scale"
   ]
  },
  {
   "cell_type": "code",
   "execution_count": 152,
   "metadata": {},
   "outputs": [],
   "source": [
    "df=minmax_scale(df[['sepal_length','sepal_width','petal_length','petal_width']])"
   ]
  },
  {
   "cell_type": "code",
   "execution_count": 153,
   "metadata": {},
   "outputs": [],
   "source": [
    "df=pd.DataFrame(df,columns=['sepal_length','sepal_width','petal_length','petal_width'])"
   ]
  },
  {
   "cell_type": "code",
   "execution_count": 119,
   "metadata": {},
   "outputs": [],
   "source": [
    "df['z sep len']=(df['sepal_length']-df['sepal_length'].mean())/df['sepal_length'].std()"
   ]
  },
  {
   "cell_type": "code",
   "execution_count": 154,
   "metadata": {},
   "outputs": [
    {
     "data": {
      "text/html": [
       "<div>\n",
       "<style scoped>\n",
       "    .dataframe tbody tr th:only-of-type {\n",
       "        vertical-align: middle;\n",
       "    }\n",
       "\n",
       "    .dataframe tbody tr th {\n",
       "        vertical-align: top;\n",
       "    }\n",
       "\n",
       "    .dataframe thead th {\n",
       "        text-align: right;\n",
       "    }\n",
       "</style>\n",
       "<table border=\"1\" class=\"dataframe\">\n",
       "  <thead>\n",
       "    <tr style=\"text-align: right;\">\n",
       "      <th></th>\n",
       "      <th>sepal_length</th>\n",
       "      <th>sepal_width</th>\n",
       "      <th>petal_length</th>\n",
       "      <th>petal_width</th>\n",
       "    </tr>\n",
       "  </thead>\n",
       "  <tbody>\n",
       "    <tr>\n",
       "      <th>0</th>\n",
       "      <td>0.222222</td>\n",
       "      <td>0.625000</td>\n",
       "      <td>0.067797</td>\n",
       "      <td>0.041667</td>\n",
       "    </tr>\n",
       "    <tr>\n",
       "      <th>1</th>\n",
       "      <td>0.166667</td>\n",
       "      <td>0.416667</td>\n",
       "      <td>0.067797</td>\n",
       "      <td>0.041667</td>\n",
       "    </tr>\n",
       "    <tr>\n",
       "      <th>2</th>\n",
       "      <td>0.111111</td>\n",
       "      <td>0.500000</td>\n",
       "      <td>0.050847</td>\n",
       "      <td>0.041667</td>\n",
       "    </tr>\n",
       "    <tr>\n",
       "      <th>3</th>\n",
       "      <td>0.083333</td>\n",
       "      <td>0.458333</td>\n",
       "      <td>0.084746</td>\n",
       "      <td>0.041667</td>\n",
       "    </tr>\n",
       "    <tr>\n",
       "      <th>4</th>\n",
       "      <td>0.194444</td>\n",
       "      <td>0.666667</td>\n",
       "      <td>0.067797</td>\n",
       "      <td>0.041667</td>\n",
       "    </tr>\n",
       "    <tr>\n",
       "      <th>...</th>\n",
       "      <td>...</td>\n",
       "      <td>...</td>\n",
       "      <td>...</td>\n",
       "      <td>...</td>\n",
       "    </tr>\n",
       "    <tr>\n",
       "      <th>145</th>\n",
       "      <td>0.666667</td>\n",
       "      <td>0.416667</td>\n",
       "      <td>0.711864</td>\n",
       "      <td>0.916667</td>\n",
       "    </tr>\n",
       "    <tr>\n",
       "      <th>146</th>\n",
       "      <td>0.555556</td>\n",
       "      <td>0.208333</td>\n",
       "      <td>0.677966</td>\n",
       "      <td>0.750000</td>\n",
       "    </tr>\n",
       "    <tr>\n",
       "      <th>147</th>\n",
       "      <td>0.611111</td>\n",
       "      <td>0.416667</td>\n",
       "      <td>0.711864</td>\n",
       "      <td>0.791667</td>\n",
       "    </tr>\n",
       "    <tr>\n",
       "      <th>148</th>\n",
       "      <td>0.527778</td>\n",
       "      <td>0.583333</td>\n",
       "      <td>0.745763</td>\n",
       "      <td>0.916667</td>\n",
       "    </tr>\n",
       "    <tr>\n",
       "      <th>149</th>\n",
       "      <td>0.444444</td>\n",
       "      <td>0.416667</td>\n",
       "      <td>0.694915</td>\n",
       "      <td>0.708333</td>\n",
       "    </tr>\n",
       "  </tbody>\n",
       "</table>\n",
       "<p>150 rows × 4 columns</p>\n",
       "</div>"
      ],
      "text/plain": [
       "     sepal_length  sepal_width  petal_length  petal_width\n",
       "0        0.222222     0.625000      0.067797     0.041667\n",
       "1        0.166667     0.416667      0.067797     0.041667\n",
       "2        0.111111     0.500000      0.050847     0.041667\n",
       "3        0.083333     0.458333      0.084746     0.041667\n",
       "4        0.194444     0.666667      0.067797     0.041667\n",
       "..            ...          ...           ...          ...\n",
       "145      0.666667     0.416667      0.711864     0.916667\n",
       "146      0.555556     0.208333      0.677966     0.750000\n",
       "147      0.611111     0.416667      0.711864     0.791667\n",
       "148      0.527778     0.583333      0.745763     0.916667\n",
       "149      0.444444     0.416667      0.694915     0.708333\n",
       "\n",
       "[150 rows x 4 columns]"
      ]
     },
     "execution_count": 154,
     "metadata": {},
     "output_type": "execute_result"
    }
   ],
   "source": [
    "df"
   ]
  },
  {
   "cell_type": "code",
   "execution_count": 122,
   "metadata": {},
   "outputs": [
    {
     "data": {
      "text/plain": [
       "0.3149109566369728"
      ]
     },
     "execution_count": 122,
     "metadata": {},
     "output_type": "execute_result"
    }
   ],
   "source": [
    "df['sepal_length'].skew()"
   ]
  },
  {
   "cell_type": "code",
   "execution_count": 124,
   "metadata": {},
   "outputs": [
    {
     "data": {
      "text/plain": [
       "0.3149109566369741"
      ]
     },
     "execution_count": 124,
     "metadata": {},
     "output_type": "execute_result"
    }
   ],
   "source": [
    "df['z sep len'].skew()"
   ]
  },
  {
   "cell_type": "code",
   "execution_count": 136,
   "metadata": {},
   "outputs": [
    {
     "data": {
      "text/plain": [
       "<matplotlib.axes._subplots.AxesSubplot at 0x205195b6e88>"
      ]
     },
     "execution_count": 136,
     "metadata": {},
     "output_type": "execute_result"
    },
    {
     "data": {
      "image/png": "[encoded data removed]",
      "text/plain": [
       "<Figure size 576x360 with 2 Axes>"
      ]
     },
     "metadata": {
      "needs_background": "light"
     },
     "output_type": "display_data"
    }
   ],
   "source": [
    "fig,axes=plt.subplots(1,2,figsize=(8,5))\n",
    "sns.distplot(df['sepal_length'],ax=axes[0])\n",
    "sns.distplot(df['z sep len'],ax=axes[1])\n",
    "axes[0].set_title('anish')\n",
    "df['sepal_length'].plot(kind='bar',ax=axes[1])"
   ]
  },
  {
   "cell_type": "code",
   "execution_count": 155,
   "metadata": {},
   "outputs": [],
   "source": [
    "import csv"
   ]
  },
  {
   "cell_type": "code",
   "execution_count": 169,
   "metadata": {},
   "outputs": [],
   "source": [
    "l=[]\n",
    "with open('500_Person_Gender_Height_Weight_Index.csv','r') as file:\n",
    "    reader=csv.reader(file,delimiter=',')\n",
    "    for i in reader:\n",
    "        l.append(i)"
   ]
  },
  {
   "cell_type": "code",
   "execution_count": 198,
   "metadata": {},
   "outputs": [],
   "source": [
    "file=open('500_Person_Gender_Height_Weight_Index.csv','r')"
   ]
  },
  {
   "cell_type": "code",
   "execution_count": 199,
   "metadata": {},
   "outputs": [],
   "source": [
    "read=csv.reader(file,delimiter=',')"
   ]
  },
  {
   "cell_type": "code",
   "execution_count": 200,
   "metadata": {},
   "outputs": [],
   "source": [
    "s=[]\n",
    "for i in read:\n",
    "    s.append(i)"
   ]
  },
  {
   "cell_type": "code",
   "execution_count": 207,
   "metadata": {},
   "outputs": [],
   "source": [
    "df=sns.load_dataset('tips')"
   ]
  },
  {
   "cell_type": "code",
   "execution_count": 208,
   "metadata": {},
   "outputs": [],
   "source": [
    "from sklearn.preprocessing import StandardScaler"
   ]
  },
  {
   "cell_type": "code",
   "execution_count": 212,
   "metadata": {},
   "outputs": [],
   "source": [
    "ss=StandardScaler()"
   ]
  },
  {
   "cell_type": "code",
   "execution_count": 214,
   "metadata": {},
   "outputs": [
    {
     "data": {
      "text/html": [
       "<div>\n",
       "<style scoped>\n",
       "    .dataframe tbody tr th:only-of-type {\n",
       "        vertical-align: middle;\n",
       "    }\n",
       "\n",
       "    .dataframe tbody tr th {\n",
       "        vertical-align: top;\n",
       "    }\n",
       "\n",
       "    .dataframe thead th {\n",
       "        text-align: right;\n",
       "    }\n",
       "</style>\n",
       "<table border=\"1\" class=\"dataframe\">\n",
       "  <thead>\n",
       "    <tr style=\"text-align: right;\">\n",
       "      <th></th>\n",
       "      <th>total_bill</th>\n",
       "      <th>tip</th>\n",
       "      <th>sex</th>\n",
       "      <th>smoker</th>\n",
       "      <th>day</th>\n",
       "      <th>time</th>\n",
       "      <th>size</th>\n",
       "    </tr>\n",
       "  </thead>\n",
       "  <tbody>\n",
       "    <tr>\n",
       "      <th>0</th>\n",
       "      <td>16.99</td>\n",
       "      <td>1.01</td>\n",
       "      <td>Female</td>\n",
       "      <td>No</td>\n",
       "      <td>Sun</td>\n",
       "      <td>Dinner</td>\n",
       "      <td>2</td>\n",
       "    </tr>\n",
       "    <tr>\n",
       "      <th>1</th>\n",
       "      <td>10.34</td>\n",
       "      <td>1.66</td>\n",
       "      <td>Male</td>\n",
       "      <td>No</td>\n",
       "      <td>Sun</td>\n",
       "      <td>Dinner</td>\n",
       "      <td>3</td>\n",
       "    </tr>\n",
       "    <tr>\n",
       "      <th>2</th>\n",
       "      <td>21.01</td>\n",
       "      <td>3.50</td>\n",
       "      <td>Male</td>\n",
       "      <td>No</td>\n",
       "      <td>Sun</td>\n",
       "      <td>Dinner</td>\n",
       "      <td>3</td>\n",
       "    </tr>\n",
       "    <tr>\n",
       "      <th>3</th>\n",
       "      <td>23.68</td>\n",
       "      <td>3.31</td>\n",
       "      <td>Male</td>\n",
       "      <td>No</td>\n",
       "      <td>Sun</td>\n",
       "      <td>Dinner</td>\n",
       "      <td>2</td>\n",
       "    </tr>\n",
       "    <tr>\n",
       "      <th>4</th>\n",
       "      <td>24.59</td>\n",
       "      <td>3.61</td>\n",
       "      <td>Female</td>\n",
       "      <td>No</td>\n",
       "      <td>Sun</td>\n",
       "      <td>Dinner</td>\n",
       "      <td>4</td>\n",
       "    </tr>\n",
       "  </tbody>\n",
       "</table>\n",
       "</div>"
      ],
      "text/plain": [
       "   total_bill   tip     sex smoker  day    time  size\n",
       "0       16.99  1.01  Female     No  Sun  Dinner     2\n",
       "1       10.34  1.66    Male     No  Sun  Dinner     3\n",
       "2       21.01  3.50    Male     No  Sun  Dinner     3\n",
       "3       23.68  3.31    Male     No  Sun  Dinner     2\n",
       "4       24.59  3.61  Female     No  Sun  Dinner     4"
      ]
     },
     "execution_count": 214,
     "metadata": {},
     "output_type": "execute_result"
    }
   ],
   "source": [
    "df.head()"
   ]
  },
  {
   "cell_type": "code",
   "execution_count": 215,
   "metadata": {},
   "outputs": [
    {
     "data": {
      "text/plain": [
       "array([[-3.14711305e-01, -1.43994695e+00, -6.00192629e-01],\n",
       "       [-1.06323531e+00, -9.69205340e-01,  4.53382921e-01],\n",
       "       [ 1.37779900e-01,  3.63355539e-01,  4.53382921e-01],\n",
       "       [ 4.38315103e-01,  2.25754144e-01, -6.00192629e-01],\n",
       "       [ 5.40744704e-01,  4.43019505e-01,  1.50695847e+00],\n",
       "       [ 6.19536705e-01,  1.23965916e+00,  1.50695847e+00],\n",
       "       [-1.23995452e+00, -7.22971264e-01, -6.00192629e-01],\n",
       "       [ 7.98507107e-01,  8.81527488e-02,  1.50695847e+00],\n",
       "       [-5.34203307e-01, -7.51939979e-01, -6.00192629e-01],\n",
       "       [-5.63468908e-01,  1.67816714e-01, -6.00192629e-01],\n",
       "       [-1.07111451e+00, -9.32994446e-01, -6.00192629e-01],\n",
       "       [ 1.74175992e+00,  1.44968234e+00,  1.50695847e+00],\n",
       "       [-4.91430507e-01, -1.03438495e+00, -6.00192629e-01],\n",
       "       [-1.52624903e-01,  1.24660453e-03,  1.50695847e+00],\n",
       "       [-5.57840908e-01,  1.57309619e-02, -6.00192629e-01],\n",
       "       [ 2.01939101e-01,  6.67527044e-01, -6.00192629e-01],\n",
       "       [-1.06436091e+00, -9.61963161e-01,  4.53382921e-01],\n",
       "       [-3.93503306e-01,  5.15441291e-01,  4.53382921e-01],\n",
       "       [-3.16962505e-01,  3.63355539e-01,  4.53382921e-01],\n",
       "       [ 9.72582994e-02,  2.54722859e-01,  4.53382921e-01],\n",
       "       [-2.10030504e-01,  7.83401903e-01, -6.00192629e-01],\n",
       "       [ 5.67366990e-02, -1.79807863e-01, -6.00192629e-01],\n",
       "       [-4.52034507e-01, -5.56401155e-01, -6.00192629e-01],\n",
       "       [ 2.21000952e+00,  3.31816444e+00,  1.50695847e+00],\n",
       "       [ 3.83349840e-03,  1.31605821e-01, -6.00192629e-01],\n",
       "       [-2.22412104e-01, -4.76737189e-01,  1.50695847e+00],\n",
       "       [-7.22178510e-01, -7.22971264e-01, -6.00192629e-01],\n",
       "       [-7.98719310e-01, -7.22971264e-01, -6.00192629e-01],\n",
       "       [ 2.15446301e-01,  9.42729834e-01, -6.00192629e-01],\n",
       "       [-1.53017018e-02,  1.24660453e-03, -6.00192629e-01],\n",
       "       [-1.15215771e+00, -1.12129109e+00, -6.00192629e-01],\n",
       "       [-1.61629703e-01, -3.60862330e-01,  1.50695847e+00],\n",
       "       [-5.31952107e-01,  1.24660453e-03, -6.00192629e-01],\n",
       "       [ 1.01760699e-01, -3.97073223e-01,  1.50695847e+00],\n",
       "       [-2.25788904e-01,  1.96785429e-01, -6.00192629e-01],\n",
       "       [ 4.81087904e-01,  4.35777326e-01,  4.53382921e-01],\n",
       "       [-3.91252106e-01, -7.22971264e-01,  4.53382921e-01],\n",
       "       [-3.21464905e-01,  5.19418554e-02,  4.53382921e-01],\n",
       "       [-1.23359303e-01, -4.98463725e-01,  4.53382921e-01],\n",
       "       [ 1.29264551e+00,  1.44968234e+00,  4.53382921e-01],\n",
       "       [-4.21643306e-01, -5.49158976e-01,  4.53382921e-01],\n",
       "       [-2.61808105e-01, -3.31893615e-01, -6.00192629e-01],\n",
       "       [-6.58019309e-01,  4.46996767e-02, -6.00192629e-01],\n",
       "       [-1.13752491e+00, -1.21543942e+00, -6.00192629e-01],\n",
       "       [ 1.19471831e+00,  1.88421306e+00,  1.50695847e+00],\n",
       "       [-1.68383303e-01,  1.24660453e-03, -6.00192629e-01],\n",
       "       [ 2.75103101e-01,  1.44968234e+00, -6.00192629e-01],\n",
       "       [ 1.41983831e+00,  2.17390021e+00,  1.50695847e+00],\n",
       "       [ 9.86482309e-01, -6.86760371e-01,  4.53382921e-01],\n",
       "       [-1.96523304e-01,  1.24660453e-03, -6.00192629e-01],\n",
       "       [-8.15603311e-01, -3.60862330e-01, -6.00192629e-01],\n",
       "       [-1.06886331e+00, -2.88440543e-01, -6.00192629e-01],\n",
       "       [ 1.69110792e+00,  1.59452592e+00,  1.50695847e+00],\n",
       "       [-1.10825931e+00, -1.04162713e+00, -6.00192629e-01],\n",
       "       [ 6.49927905e-01,  9.71698549e-01,  1.50695847e+00],\n",
       "       [-3.33113020e-02,  3.70597718e-01, -6.00192629e-01],\n",
       "       [ 2.05129992e+00,  1.24660453e-03,  1.50695847e+00],\n",
       "       [ 7.45603907e-01, -1.08508020e+00, -6.00192629e-01],\n",
       "       [-9.61931312e-01, -8.96783553e-01, -6.00192629e-01],\n",
       "       [ 3.20616553e+00,  2.70257926e+00,  1.50695847e+00],\n",
       "       [ 5.67366990e-02,  1.53332357e-01, -6.00192629e-01],\n",
       "       [-6.72652109e-01, -7.22971264e-01, -6.00192629e-01],\n",
       "       [-9.86694512e-01, -7.37455622e-01, -6.00192629e-01],\n",
       "       [-1.68383303e-01,  5.51652185e-01,  1.50695847e+00],\n",
       "       [-2.47175304e-01, -2.59471828e-01,  4.53382921e-01],\n",
       "       [ 3.30990987e-02,  1.09879285e-01,  4.53382921e-01],\n",
       "       [-3.75493706e-01, -3.82588866e-01, -6.00192629e-01],\n",
       "       [-1.88154652e+00, -1.44718913e+00, -1.65376818e+00],\n",
       "       [ 4.99830989e-02, -7.15729086e-01, -6.00192629e-01],\n",
       "       [-5.37580108e-01, -6.57791656e-01, -6.00192629e-01],\n",
       "       [-8.74134511e-01, -7.44697800e-01, -6.00192629e-01],\n",
       "       [-3.05706505e-01,  1.24660453e-03,  4.53382921e-01],\n",
       "       [ 7.96255907e-01,  1.02637106e-01, -6.00192629e-01],\n",
       "       [ 6.18411105e-01,  1.44968234e+00, -6.00192629e-01],\n",
       "       [-5.69096908e-01, -5.78127691e-01, -6.00192629e-01],\n",
       "       [-1.04410011e+00, -1.26613467e+00, -6.00192629e-01],\n",
       "       [-2.10030504e-01,  5.91840340e-02, -6.00192629e-01],\n",
       "       [ 8.34526308e-01,  7.25464473e-01,  1.50695847e+00],\n",
       "       [ 3.34759902e-01,  1.24660453e-03, -6.00192629e-01],\n",
       "       [-2.80943305e-01, -2.08776577e-01, -6.00192629e-01],\n",
       "       [-3.89393021e-02,  1.24660453e-03, -6.00192629e-01],\n",
       "       [-3.51856105e-01,  2.90933752e-01, -6.00192629e-01],\n",
       "       [-1.09362651e+00, -8.46088302e-01, -1.65376818e+00],\n",
       "       [ 1.45135511e+00,  1.44968234e+00, -6.00192629e-01],\n",
       "       [-4.28396906e-01, -7.01244728e-01, -6.00192629e-01],\n",
       "       [ 1.69335912e+00,  1.57279938e+00,  1.50695847e+00],\n",
       "       [-7.60448910e-01, -7.22971264e-01, -6.00192629e-01],\n",
       "       [-1.69508903e-01,  7.25464473e-01, -6.00192629e-01],\n",
       "       [ 5.54251904e-01,  2.06526753e+00, -6.00192629e-01],\n",
       "       [ 1.54663900e-01,  1.24660453e-03, -6.00192629e-01],\n",
       "       [ 1.03375751e+00,  1.24660453e-03, -6.00192629e-01],\n",
       "       [ 3.04368702e-01,  3.63355539e-01, -6.00192629e-01],\n",
       "       [-1.57988572e+00, -1.44718913e+00, -6.00192629e-01],\n",
       "       [-3.90126506e-01,  9.42729834e-01, -6.00192629e-01],\n",
       "       [ 3.33634302e-01,  1.82301072e-01, -6.00192629e-01],\n",
       "       [ 2.29442952e+00,  1.25414352e+00,  1.50695847e+00],\n",
       "       [ 8.43531108e-01,  7.25464473e-01, -6.00192629e-01],\n",
       "       [-8.73008911e-01, -1.08508020e+00, -6.00192629e-01],\n",
       "       [ 1.37779900e-01,  1.24660453e-03, -6.00192629e-01],\n",
       "       [-8.24608111e-01, -1.08508020e+00, -6.00192629e-01],\n",
       "       [-9.49549712e-01, -3.60862330e-01, -6.00192629e-01],\n",
       "       [-4.95932907e-01,  1.24660453e-03, -6.00192629e-01],\n",
       "       [ 2.75930233e+00, -3.60862330e-01,  4.53382921e-01],\n",
       "       [ 2.96489502e-01,  3.48871182e-01, -6.00192629e-01],\n",
       "       [ 1.27649500e-01,  7.83401903e-01, -6.00192629e-01],\n",
       "       [-4.98184107e-01, -9.83689697e-01, -6.00192629e-01],\n",
       "       [ 7.92486992e-02,  7.68917546e-01, -6.00192629e-01],\n",
       "       [ 6.10531905e-01,  9.35487655e-01, -6.00192629e-01],\n",
       "       [-1.74011304e-01,  5.51652185e-01, -6.00192629e-01],\n",
       "       [-6.16372108e-01,  7.25464473e-01, -6.00192629e-01],\n",
       "       [-6.51265709e-01,  1.24660453e-03, -6.00192629e-01],\n",
       "       [-1.41104572e+00, -1.44718913e+00, -1.65376818e+00],\n",
       "       [ 2.05805352e+00,  7.25464473e-01,  4.53382921e-01],\n",
       "       [ 4.68706304e-01, -3.24651436e-01, -6.00192629e-01],\n",
       "       [ 6.66811906e-01,  7.25464473e-01,  4.53382921e-01],\n",
       "       [-2.78692105e-01,  3.63355539e-01, -6.00192629e-01],\n",
       "       [ 1.14181511e+00,  1.50037759e+00,  1.50695847e+00],\n",
       "       [-1.02834171e+00, -1.08508020e+00, -6.00192629e-01],\n",
       "       [-8.27984911e-01, -8.67814838e-01, -6.00192629e-01],\n",
       "       [ 4.83339104e-01, -5.66908250e-02,  1.50695847e+00],\n",
       "       [-9.11279312e-01, -4.98463725e-01, -6.00192629e-01],\n",
       "       [-7.16550509e-01, -9.54720982e-01, -6.00192629e-01],\n",
       "       [-6.22000108e-01, -3.60862330e-01, -6.00192629e-01],\n",
       "       [-4.31773706e-01, -7.22971264e-01, -6.00192629e-01],\n",
       "       [-8.22356911e-01, -3.46377973e-01, -6.00192629e-01],\n",
       "       [ 1.12718231e+00,  8.70308047e-01,  3.61410957e+00],\n",
       "       [-1.26809452e+00, -1.09956456e+00, -6.00192629e-01],\n",
       "       [-5.92734508e-01, -7.22971264e-01, -6.00192629e-01],\n",
       "       [-9.46172912e-01, -7.22971264e-01, -6.00192629e-01],\n",
       "       [ 3.41513502e-01, -5.92612048e-01,  4.53382921e-01],\n",
       "       [-7.94609025e-02, -1.08508020e+00, -6.00192629e-01],\n",
       "       [ 5.44854990e-02, -1.21870433e-01, -6.00192629e-01],\n",
       "       [-9.69810512e-01, -1.08508020e+00, -6.00192629e-01],\n",
       "       [-8.47120111e-01, -7.22971264e-01, -6.00192629e-01],\n",
       "       [-1.71760104e-01,  1.82301072e-01, -6.00192629e-01],\n",
       "       [-1.26922012e+00, -1.26613467e+00, -6.00192629e-01],\n",
       "       [-1.06436091e+00, -7.22971264e-01, -6.00192629e-01],\n",
       "       [-6.34381709e-01, -7.22971264e-01, -6.00192629e-01],\n",
       "       [-4.26145706e-01, -7.22971264e-01, -6.00192629e-01],\n",
       "       [-7.45816110e-01, -1.79807863e-01, -6.00192629e-01],\n",
       "       [-2.60682504e-01,  3.63355539e-01, -6.00192629e-01],\n",
       "       [ 1.63370232e+00,  2.68085272e+00,  3.61410957e+00],\n",
       "       [ 2.40924072e+00,  1.44968234e+00,  2.56053402e+00],\n",
       "       [ 8.17642307e-01,  1.44968234e+00,  3.61410957e+00],\n",
       "       [-3.77744906e-01, -5.05705904e-01, -6.00192629e-01],\n",
       "       [-1.28722972e+00, -1.08508020e+00, -6.00192629e-01],\n",
       "       [-1.28987303e-01, -1.18647070e+00,  4.53382921e-01],\n",
       "       [-8.91018511e-01, -9.90931876e-01, -6.00192629e-01],\n",
       "       [-1.12626891e+00, -9.18510089e-01, -6.00192629e-01],\n",
       "       [-1.38178012e+00, -7.22971264e-01, -6.00192629e-01],\n",
       "       [-6.43386509e-01, -3.60862330e-01, -6.00192629e-01],\n",
       "       [-7.49192910e-01, -7.22971264e-01, -6.00192629e-01],\n",
       "       [-2.84320105e-01, -1.87050041e-01,  4.53382921e-01],\n",
       "       [ 5.36242304e-01, -7.22971264e-01,  1.50695847e+00],\n",
       "       [-1.79450166e-03, -7.22971264e-01,  1.50695847e+00],\n",
       "       [ 1.13281031e+00,  1.55107284e+00,  2.56053402e+00],\n",
       "       [ 3.19490953e+00,  1.44968234e+00,  3.61410957e+00],\n",
       "       [ 5.86894305e-01,  5.44410006e-01,  1.50695847e+00],\n",
       "       [-7.19927310e-01, -2.81198364e-01, -6.00192629e-01],\n",
       "       [-3.70991306e-01, -7.22971264e-01,  1.50695847e+00],\n",
       "       [ 1.92934300e-01,  3.63355539e-01,  1.50695847e+00],\n",
       "       [-8.02096110e-01, -3.60862330e-01, -6.00192629e-01],\n",
       "       [-4.02508106e-01, -7.22971264e-01,  4.53382921e-01],\n",
       "       [-6.72652109e-01, -7.22971264e-01, -6.00192629e-01],\n",
       "       [-2.56180104e-01,  1.24660453e-03, -6.00192629e-01],\n",
       "       [ 5.32865504e-01,  3.48871182e-01,  4.53382921e-01],\n",
       "       [ 1.09639900e-01, -5.49158976e-01, -6.00192629e-01],\n",
       "       [ 1.34217191e+00,  1.08757341e+00,  1.50695847e+00],\n",
       "       [-1.03509531e+00, -1.00541623e+00, -6.00192629e-01],\n",
       "       [-1.03059291e+00, -7.22971264e-01, -6.00192629e-01],\n",
       "       [ 3.49206794e+00,  5.07077169e+00,  4.53382921e-01],\n",
       "       [-4.47532107e-01,  1.17121464e-01, -6.00192629e-01],\n",
       "       [-1.41104572e+00,  1.55831502e+00, -6.00192629e-01],\n",
       "       [ 1.35793031e+00,  1.31605821e-01, -6.00192629e-01],\n",
       "       [-3.33846505e-01,  7.25464473e-01, -6.00192629e-01],\n",
       "       [ 1.47611831e+00,  8.09105701e-02, -6.00192629e-01],\n",
       "       [-2.13407304e-01, -7.22971264e-01, -6.00192629e-01],\n",
       "       [-5.97236908e-01, -7.22971264e-01, -6.00192629e-01],\n",
       "       [-1.14652971e+00,  7.25464473e-01, -6.00192629e-01],\n",
       "       [ 1.67084712e+00,  3.99566432e-01, -6.00192629e-01],\n",
       "       [ 1.67309832e+00,  4.93714755e-01,  1.50695847e+00],\n",
       "       [ 3.98919103e-01,  1.92042396e+00, -6.00192629e-01],\n",
       "       [ 2.87749033e+00,  3.63355539e-01,  4.53382921e-01],\n",
       "       [ 3.80909503e-01,  2.53600915e+00,  1.50695847e+00],\n",
       "       [ 2.33720232e+00,  1.24660453e-03, -6.00192629e-01],\n",
       "       [ 1.01760699e-01,  1.44968234e+00,  2.56053402e+00],\n",
       "       [ 1.25398300e-01,  3.63355539e-01,  4.53382921e-01],\n",
       "       [ 1.20147191e+00, -7.22971264e-01,  2.56053402e+00],\n",
       "       [-1.84141704e-01,  3.63355539e-01,  4.53382921e-01],\n",
       "       [ 3.73030302e-01,  7.25464473e-01,  4.53382921e-01],\n",
       "       [-4.61039307e-01, -1.08508020e+00, -6.00192629e-01],\n",
       "       [ 2.70789839e-03,  8.63065869e-01, -6.00192629e-01],\n",
       "       [ 9.74100709e-01, -3.17409258e-01, -6.00192629e-01],\n",
       "       [-4.84676907e-01, -7.08486907e-01, -6.00192629e-01],\n",
       "       [-3.60860906e-01,  7.25464473e-01, -6.00192629e-01],\n",
       "       [-1.37615212e+00, -1.12853327e+00, -6.00192629e-01],\n",
       "       [-1.06323531e+00, -7.22971264e-01, -6.00192629e-01],\n",
       "       [ 2.62535593e+00,  1.44968234e+00,  1.50695847e+00],\n",
       "       [-7.63825710e-01, -7.22971264e-01, -6.00192629e-01],\n",
       "       [-7.06420109e-01, -7.22971264e-01, -6.00192629e-01],\n",
       "       [-1.21108103e-01,  7.25464473e-01,  4.53382921e-01],\n",
       "       [-7.93091310e-01, -7.15729086e-01, -6.00192629e-01],\n",
       "       [-7.63825710e-01, -7.22971264e-01, -6.00192629e-01],\n",
       "       [-3.81121706e-01, -3.60862330e-01, -6.00192629e-01],\n",
       "       [ 8.37510993e-02,  7.25464473e-01,  1.50695847e+00],\n",
       "       [-3.73242506e-01,  1.67816714e-01,  4.53382921e-01],\n",
       "       [ 7.65864707e-01,  2.98175931e-01,  4.53382921e-01],\n",
       "       [ 2.13234312e+00,  1.24660453e-03,  1.50695847e+00],\n",
       "       [ 5.04725504e-01, -7.01244728e-01, -6.00192629e-01],\n",
       "       [-7.90840110e-01, -5.56401155e-01, -6.00192629e-01],\n",
       "       [ 1.15644791e+00, -7.22971264e-01,  4.53382921e-01],\n",
       "       [ 6.87072706e-01,  1.56555720e+00,  1.50695847e+00],\n",
       "       [ 3.21291913e+00,  4.34655382e+00,  1.50695847e+00],\n",
       "       [-7.33434510e-01, -3.60862330e-01, -6.00192629e-01],\n",
       "       [ 9.43709509e-01,  2.53600915e+00,  4.53382921e-01],\n",
       "       [-7.75081710e-01, -1.37476735e+00, -6.00192629e-01],\n",
       "       [ 9.41458309e-01,  1.24660453e-03,  2.56053402e+00],\n",
       "       [-9.22535312e-01, -1.08508020e+00, -6.00192629e-01],\n",
       "       [-1.35589132e+00, -1.12853327e+00, -6.00192629e-01],\n",
       "       [ 1.16545271e+00,  6.64262127e-02,  1.50695847e+00],\n",
       "       [-8.58376111e-01, -5.78127691e-01, -6.00192629e-01],\n",
       "       [-7.16550509e-01,  3.48871182e-01, -6.00192629e-01],\n",
       "       [-1.26134092e+00, -7.80908694e-01, -1.65376818e+00],\n",
       "       [-4.28396906e-01,  1.24660453e-03,  4.53382921e-01],\n",
       "       [-7.16550509e-01, -1.02714277e+00, -6.00192629e-01],\n",
       "       [-3.95754506e-01, -3.60862330e-01, -6.00192629e-01],\n",
       "       [-1.09137531e+00, -7.22971264e-01, -6.00192629e-01],\n",
       "       [ 7.47462992e-02,  1.24660453e-03,  1.50695847e+00],\n",
       "       [-7.32308910e-01, -2.01534399e-01, -6.00192629e-01],\n",
       "       [ 2.62721501e-01, -8.56595397e-02, -6.00192629e-01],\n",
       "       [ 4.75459904e-01, -7.22971264e-01,  1.50695847e+00],\n",
       "       [-4.61039307e-01,  1.24660453e-03,  4.53382921e-01],\n",
       "       [-9.20284112e-01,  2.83691573e-01, -6.00192629e-01],\n",
       "       [-1.01483451e+00, -1.10680673e+00, -6.00192629e-01],\n",
       "       [-4.79048907e-01,  1.24660453e-03, -6.00192629e-01],\n",
       "       [-1.09362651e+00, -1.26613467e+00, -6.00192629e-01],\n",
       "       [-8.08849711e-01, -1.44718913e+00, -6.00192629e-01],\n",
       "       [ 1.46823911e+00, -1.32407210e+00, -6.00192629e-01],\n",
       "       [ 1.80591912e+00,  1.21069045e+00,  4.53382921e-01],\n",
       "       [ 1.04051111e+00,  2.11596278e+00,  4.53382921e-01],\n",
       "       [ 8.32275107e-01, -7.22971264e-01, -6.00192629e-01],\n",
       "       [ 3.24629502e-01, -7.22971264e-01, -6.00192629e-01],\n",
       "       [-2.21286504e-01, -9.04025732e-01, -6.00192629e-01],\n",
       "       [-1.13228903e-01,  1.24660453e-03, -6.00192629e-01]])"
      ]
     },
     "execution_count": 215,
     "metadata": {},
     "output_type": "execute_result"
    }
   ],
   "source": [
    "ss.fit_transform(df[['total_bill','tip','size']])"
   ]
  },
  {
   "cell_type": "code",
   "execution_count": 216,
   "metadata": {},
   "outputs": [],
   "source": [
    "from scipy.stats import zscore"
   ]
  },
  {
   "cell_type": "code",
   "execution_count": 217,
   "metadata": {},
   "outputs": [],
   "source": [
    "z=zscore(df[['total_bill','tip','size']])"
   ]
  },
  {
   "cell_type": "code",
   "execution_count": 218,
   "metadata": {},
   "outputs": [
    {
     "data": {
      "text/plain": [
       "array([[-3.14711305e-01, -1.43994695e+00, -6.00192629e-01],\n",
       "       [-1.06323531e+00, -9.69205340e-01,  4.53382921e-01],\n",
       "       [ 1.37779900e-01,  3.63355539e-01,  4.53382921e-01],\n",
       "       [ 4.38315103e-01,  2.25754144e-01, -6.00192629e-01],\n",
       "       [ 5.40744704e-01,  4.43019505e-01,  1.50695847e+00],\n",
       "       [ 6.19536705e-01,  1.23965916e+00,  1.50695847e+00],\n",
       "       [-1.23995452e+00, -7.22971264e-01, -6.00192629e-01],\n",
       "       [ 7.98507107e-01,  8.81527488e-02,  1.50695847e+00],\n",
       "       [-5.34203307e-01, -7.51939979e-01, -6.00192629e-01],\n",
       "       [-5.63468908e-01,  1.67816714e-01, -6.00192629e-01],\n",
       "       [-1.07111451e+00, -9.32994446e-01, -6.00192629e-01],\n",
       "       [ 1.74175992e+00,  1.44968234e+00,  1.50695847e+00],\n",
       "       [-4.91430507e-01, -1.03438495e+00, -6.00192629e-01],\n",
       "       [-1.52624903e-01,  1.24660453e-03,  1.50695847e+00],\n",
       "       [-5.57840908e-01,  1.57309619e-02, -6.00192629e-01],\n",
       "       [ 2.01939101e-01,  6.67527044e-01, -6.00192629e-01],\n",
       "       [-1.06436091e+00, -9.61963161e-01,  4.53382921e-01],\n",
       "       [-3.93503306e-01,  5.15441291e-01,  4.53382921e-01],\n",
       "       [-3.16962505e-01,  3.63355539e-01,  4.53382921e-01],\n",
       "       [ 9.72582994e-02,  2.54722859e-01,  4.53382921e-01],\n",
       "       [-2.10030504e-01,  7.83401903e-01, -6.00192629e-01],\n",
       "       [ 5.67366990e-02, -1.79807863e-01, -6.00192629e-01],\n",
       "       [-4.52034507e-01, -5.56401155e-01, -6.00192629e-01],\n",
       "       [ 2.21000952e+00,  3.31816444e+00,  1.50695847e+00],\n",
       "       [ 3.83349840e-03,  1.31605821e-01, -6.00192629e-01],\n",
       "       [-2.22412104e-01, -4.76737189e-01,  1.50695847e+00],\n",
       "       [-7.22178510e-01, -7.22971264e-01, -6.00192629e-01],\n",
       "       [-7.98719310e-01, -7.22971264e-01, -6.00192629e-01],\n",
       "       [ 2.15446301e-01,  9.42729834e-01, -6.00192629e-01],\n",
       "       [-1.53017018e-02,  1.24660453e-03, -6.00192629e-01],\n",
       "       [-1.15215771e+00, -1.12129109e+00, -6.00192629e-01],\n",
       "       [-1.61629703e-01, -3.60862330e-01,  1.50695847e+00],\n",
       "       [-5.31952107e-01,  1.24660453e-03, -6.00192629e-01],\n",
       "       [ 1.01760699e-01, -3.97073223e-01,  1.50695847e+00],\n",
       "       [-2.25788904e-01,  1.96785429e-01, -6.00192629e-01],\n",
       "       [ 4.81087904e-01,  4.35777326e-01,  4.53382921e-01],\n",
       "       [-3.91252106e-01, -7.22971264e-01,  4.53382921e-01],\n",
       "       [-3.21464905e-01,  5.19418554e-02,  4.53382921e-01],\n",
       "       [-1.23359303e-01, -4.98463725e-01,  4.53382921e-01],\n",
       "       [ 1.29264551e+00,  1.44968234e+00,  4.53382921e-01],\n",
       "       [-4.21643306e-01, -5.49158976e-01,  4.53382921e-01],\n",
       "       [-2.61808105e-01, -3.31893615e-01, -6.00192629e-01],\n",
       "       [-6.58019309e-01,  4.46996767e-02, -6.00192629e-01],\n",
       "       [-1.13752491e+00, -1.21543942e+00, -6.00192629e-01],\n",
       "       [ 1.19471831e+00,  1.88421306e+00,  1.50695847e+00],\n",
       "       [-1.68383303e-01,  1.24660453e-03, -6.00192629e-01],\n",
       "       [ 2.75103101e-01,  1.44968234e+00, -6.00192629e-01],\n",
       "       [ 1.41983831e+00,  2.17390021e+00,  1.50695847e+00],\n",
       "       [ 9.86482309e-01, -6.86760371e-01,  4.53382921e-01],\n",
       "       [-1.96523304e-01,  1.24660453e-03, -6.00192629e-01],\n",
       "       [-8.15603311e-01, -3.60862330e-01, -6.00192629e-01],\n",
       "       [-1.06886331e+00, -2.88440543e-01, -6.00192629e-01],\n",
       "       [ 1.69110792e+00,  1.59452592e+00,  1.50695847e+00],\n",
       "       [-1.10825931e+00, -1.04162713e+00, -6.00192629e-01],\n",
       "       [ 6.49927905e-01,  9.71698549e-01,  1.50695847e+00],\n",
       "       [-3.33113020e-02,  3.70597718e-01, -6.00192629e-01],\n",
       "       [ 2.05129992e+00,  1.24660453e-03,  1.50695847e+00],\n",
       "       [ 7.45603907e-01, -1.08508020e+00, -6.00192629e-01],\n",
       "       [-9.61931312e-01, -8.96783553e-01, -6.00192629e-01],\n",
       "       [ 3.20616553e+00,  2.70257926e+00,  1.50695847e+00],\n",
       "       [ 5.67366990e-02,  1.53332357e-01, -6.00192629e-01],\n",
       "       [-6.72652109e-01, -7.22971264e-01, -6.00192629e-01],\n",
       "       [-9.86694512e-01, -7.37455622e-01, -6.00192629e-01],\n",
       "       [-1.68383303e-01,  5.51652185e-01,  1.50695847e+00],\n",
       "       [-2.47175304e-01, -2.59471828e-01,  4.53382921e-01],\n",
       "       [ 3.30990987e-02,  1.09879285e-01,  4.53382921e-01],\n",
       "       [-3.75493706e-01, -3.82588866e-01, -6.00192629e-01],\n",
       "       [-1.88154652e+00, -1.44718913e+00, -1.65376818e+00],\n",
       "       [ 4.99830989e-02, -7.15729086e-01, -6.00192629e-01],\n",
       "       [-5.37580108e-01, -6.57791656e-01, -6.00192629e-01],\n",
       "       [-8.74134511e-01, -7.44697800e-01, -6.00192629e-01],\n",
       "       [-3.05706505e-01,  1.24660453e-03,  4.53382921e-01],\n",
       "       [ 7.96255907e-01,  1.02637106e-01, -6.00192629e-01],\n",
       "       [ 6.18411105e-01,  1.44968234e+00, -6.00192629e-01],\n",
       "       [-5.69096908e-01, -5.78127691e-01, -6.00192629e-01],\n",
       "       [-1.04410011e+00, -1.26613467e+00, -6.00192629e-01],\n",
       "       [-2.10030504e-01,  5.91840340e-02, -6.00192629e-01],\n",
       "       [ 8.34526308e-01,  7.25464473e-01,  1.50695847e+00],\n",
       "       [ 3.34759902e-01,  1.24660453e-03, -6.00192629e-01],\n",
       "       [-2.80943305e-01, -2.08776577e-01, -6.00192629e-01],\n",
       "       [-3.89393021e-02,  1.24660453e-03, -6.00192629e-01],\n",
       "       [-3.51856105e-01,  2.90933752e-01, -6.00192629e-01],\n",
       "       [-1.09362651e+00, -8.46088302e-01, -1.65376818e+00],\n",
       "       [ 1.45135511e+00,  1.44968234e+00, -6.00192629e-01],\n",
       "       [-4.28396906e-01, -7.01244728e-01, -6.00192629e-01],\n",
       "       [ 1.69335912e+00,  1.57279938e+00,  1.50695847e+00],\n",
       "       [-7.60448910e-01, -7.22971264e-01, -6.00192629e-01],\n",
       "       [-1.69508903e-01,  7.25464473e-01, -6.00192629e-01],\n",
       "       [ 5.54251904e-01,  2.06526753e+00, -6.00192629e-01],\n",
       "       [ 1.54663900e-01,  1.24660453e-03, -6.00192629e-01],\n",
       "       [ 1.03375751e+00,  1.24660453e-03, -6.00192629e-01],\n",
       "       [ 3.04368702e-01,  3.63355539e-01, -6.00192629e-01],\n",
       "       [-1.57988572e+00, -1.44718913e+00, -6.00192629e-01],\n",
       "       [-3.90126506e-01,  9.42729834e-01, -6.00192629e-01],\n",
       "       [ 3.33634302e-01,  1.82301072e-01, -6.00192629e-01],\n",
       "       [ 2.29442952e+00,  1.25414352e+00,  1.50695847e+00],\n",
       "       [ 8.43531108e-01,  7.25464473e-01, -6.00192629e-01],\n",
       "       [-8.73008911e-01, -1.08508020e+00, -6.00192629e-01],\n",
       "       [ 1.37779900e-01,  1.24660453e-03, -6.00192629e-01],\n",
       "       [-8.24608111e-01, -1.08508020e+00, -6.00192629e-01],\n",
       "       [-9.49549712e-01, -3.60862330e-01, -6.00192629e-01],\n",
       "       [-4.95932907e-01,  1.24660453e-03, -6.00192629e-01],\n",
       "       [ 2.75930233e+00, -3.60862330e-01,  4.53382921e-01],\n",
       "       [ 2.96489502e-01,  3.48871182e-01, -6.00192629e-01],\n",
       "       [ 1.27649500e-01,  7.83401903e-01, -6.00192629e-01],\n",
       "       [-4.98184107e-01, -9.83689697e-01, -6.00192629e-01],\n",
       "       [ 7.92486992e-02,  7.68917546e-01, -6.00192629e-01],\n",
       "       [ 6.10531905e-01,  9.35487655e-01, -6.00192629e-01],\n",
       "       [-1.74011304e-01,  5.51652185e-01, -6.00192629e-01],\n",
       "       [-6.16372108e-01,  7.25464473e-01, -6.00192629e-01],\n",
       "       [-6.51265709e-01,  1.24660453e-03, -6.00192629e-01],\n",
       "       [-1.41104572e+00, -1.44718913e+00, -1.65376818e+00],\n",
       "       [ 2.05805352e+00,  7.25464473e-01,  4.53382921e-01],\n",
       "       [ 4.68706304e-01, -3.24651436e-01, -6.00192629e-01],\n",
       "       [ 6.66811906e-01,  7.25464473e-01,  4.53382921e-01],\n",
       "       [-2.78692105e-01,  3.63355539e-01, -6.00192629e-01],\n",
       "       [ 1.14181511e+00,  1.50037759e+00,  1.50695847e+00],\n",
       "       [-1.02834171e+00, -1.08508020e+00, -6.00192629e-01],\n",
       "       [-8.27984911e-01, -8.67814838e-01, -6.00192629e-01],\n",
       "       [ 4.83339104e-01, -5.66908250e-02,  1.50695847e+00],\n",
       "       [-9.11279312e-01, -4.98463725e-01, -6.00192629e-01],\n",
       "       [-7.16550509e-01, -9.54720982e-01, -6.00192629e-01],\n",
       "       [-6.22000108e-01, -3.60862330e-01, -6.00192629e-01],\n",
       "       [-4.31773706e-01, -7.22971264e-01, -6.00192629e-01],\n",
       "       [-8.22356911e-01, -3.46377973e-01, -6.00192629e-01],\n",
       "       [ 1.12718231e+00,  8.70308047e-01,  3.61410957e+00],\n",
       "       [-1.26809452e+00, -1.09956456e+00, -6.00192629e-01],\n",
       "       [-5.92734508e-01, -7.22971264e-01, -6.00192629e-01],\n",
       "       [-9.46172912e-01, -7.22971264e-01, -6.00192629e-01],\n",
       "       [ 3.41513502e-01, -5.92612048e-01,  4.53382921e-01],\n",
       "       [-7.94609025e-02, -1.08508020e+00, -6.00192629e-01],\n",
       "       [ 5.44854990e-02, -1.21870433e-01, -6.00192629e-01],\n",
       "       [-9.69810512e-01, -1.08508020e+00, -6.00192629e-01],\n",
       "       [-8.47120111e-01, -7.22971264e-01, -6.00192629e-01],\n",
       "       [-1.71760104e-01,  1.82301072e-01, -6.00192629e-01],\n",
       "       [-1.26922012e+00, -1.26613467e+00, -6.00192629e-01],\n",
       "       [-1.06436091e+00, -7.22971264e-01, -6.00192629e-01],\n",
       "       [-6.34381709e-01, -7.22971264e-01, -6.00192629e-01],\n",
       "       [-4.26145706e-01, -7.22971264e-01, -6.00192629e-01],\n",
       "       [-7.45816110e-01, -1.79807863e-01, -6.00192629e-01],\n",
       "       [-2.60682504e-01,  3.63355539e-01, -6.00192629e-01],\n",
       "       [ 1.63370232e+00,  2.68085272e+00,  3.61410957e+00],\n",
       "       [ 2.40924072e+00,  1.44968234e+00,  2.56053402e+00],\n",
       "       [ 8.17642307e-01,  1.44968234e+00,  3.61410957e+00],\n",
       "       [-3.77744906e-01, -5.05705904e-01, -6.00192629e-01],\n",
       "       [-1.28722972e+00, -1.08508020e+00, -6.00192629e-01],\n",
       "       [-1.28987303e-01, -1.18647070e+00,  4.53382921e-01],\n",
       "       [-8.91018511e-01, -9.90931876e-01, -6.00192629e-01],\n",
       "       [-1.12626891e+00, -9.18510089e-01, -6.00192629e-01],\n",
       "       [-1.38178012e+00, -7.22971264e-01, -6.00192629e-01],\n",
       "       [-6.43386509e-01, -3.60862330e-01, -6.00192629e-01],\n",
       "       [-7.49192910e-01, -7.22971264e-01, -6.00192629e-01],\n",
       "       [-2.84320105e-01, -1.87050041e-01,  4.53382921e-01],\n",
       "       [ 5.36242304e-01, -7.22971264e-01,  1.50695847e+00],\n",
       "       [-1.79450166e-03, -7.22971264e-01,  1.50695847e+00],\n",
       "       [ 1.13281031e+00,  1.55107284e+00,  2.56053402e+00],\n",
       "       [ 3.19490953e+00,  1.44968234e+00,  3.61410957e+00],\n",
       "       [ 5.86894305e-01,  5.44410006e-01,  1.50695847e+00],\n",
       "       [-7.19927310e-01, -2.81198364e-01, -6.00192629e-01],\n",
       "       [-3.70991306e-01, -7.22971264e-01,  1.50695847e+00],\n",
       "       [ 1.92934300e-01,  3.63355539e-01,  1.50695847e+00],\n",
       "       [-8.02096110e-01, -3.60862330e-01, -6.00192629e-01],\n",
       "       [-4.02508106e-01, -7.22971264e-01,  4.53382921e-01],\n",
       "       [-6.72652109e-01, -7.22971264e-01, -6.00192629e-01],\n",
       "       [-2.56180104e-01,  1.24660453e-03, -6.00192629e-01],\n",
       "       [ 5.32865504e-01,  3.48871182e-01,  4.53382921e-01],\n",
       "       [ 1.09639900e-01, -5.49158976e-01, -6.00192629e-01],\n",
       "       [ 1.34217191e+00,  1.08757341e+00,  1.50695847e+00],\n",
       "       [-1.03509531e+00, -1.00541623e+00, -6.00192629e-01],\n",
       "       [-1.03059291e+00, -7.22971264e-01, -6.00192629e-01],\n",
       "       [ 3.49206794e+00,  5.07077169e+00,  4.53382921e-01],\n",
       "       [-4.47532107e-01,  1.17121464e-01, -6.00192629e-01],\n",
       "       [-1.41104572e+00,  1.55831502e+00, -6.00192629e-01],\n",
       "       [ 1.35793031e+00,  1.31605821e-01, -6.00192629e-01],\n",
       "       [-3.33846505e-01,  7.25464473e-01, -6.00192629e-01],\n",
       "       [ 1.47611831e+00,  8.09105701e-02, -6.00192629e-01],\n",
       "       [-2.13407304e-01, -7.22971264e-01, -6.00192629e-01],\n",
       "       [-5.97236908e-01, -7.22971264e-01, -6.00192629e-01],\n",
       "       [-1.14652971e+00,  7.25464473e-01, -6.00192629e-01],\n",
       "       [ 1.67084712e+00,  3.99566432e-01, -6.00192629e-01],\n",
       "       [ 1.67309832e+00,  4.93714755e-01,  1.50695847e+00],\n",
       "       [ 3.98919103e-01,  1.92042396e+00, -6.00192629e-01],\n",
       "       [ 2.87749033e+00,  3.63355539e-01,  4.53382921e-01],\n",
       "       [ 3.80909503e-01,  2.53600915e+00,  1.50695847e+00],\n",
       "       [ 2.33720232e+00,  1.24660453e-03, -6.00192629e-01],\n",
       "       [ 1.01760699e-01,  1.44968234e+00,  2.56053402e+00],\n",
       "       [ 1.25398300e-01,  3.63355539e-01,  4.53382921e-01],\n",
       "       [ 1.20147191e+00, -7.22971264e-01,  2.56053402e+00],\n",
       "       [-1.84141704e-01,  3.63355539e-01,  4.53382921e-01],\n",
       "       [ 3.73030302e-01,  7.25464473e-01,  4.53382921e-01],\n",
       "       [-4.61039307e-01, -1.08508020e+00, -6.00192629e-01],\n",
       "       [ 2.70789839e-03,  8.63065869e-01, -6.00192629e-01],\n",
       "       [ 9.74100709e-01, -3.17409258e-01, -6.00192629e-01],\n",
       "       [-4.84676907e-01, -7.08486907e-01, -6.00192629e-01],\n",
       "       [-3.60860906e-01,  7.25464473e-01, -6.00192629e-01],\n",
       "       [-1.37615212e+00, -1.12853327e+00, -6.00192629e-01],\n",
       "       [-1.06323531e+00, -7.22971264e-01, -6.00192629e-01],\n",
       "       [ 2.62535593e+00,  1.44968234e+00,  1.50695847e+00],\n",
       "       [-7.63825710e-01, -7.22971264e-01, -6.00192629e-01],\n",
       "       [-7.06420109e-01, -7.22971264e-01, -6.00192629e-01],\n",
       "       [-1.21108103e-01,  7.25464473e-01,  4.53382921e-01],\n",
       "       [-7.93091310e-01, -7.15729086e-01, -6.00192629e-01],\n",
       "       [-7.63825710e-01, -7.22971264e-01, -6.00192629e-01],\n",
       "       [-3.81121706e-01, -3.60862330e-01, -6.00192629e-01],\n",
       "       [ 8.37510993e-02,  7.25464473e-01,  1.50695847e+00],\n",
       "       [-3.73242506e-01,  1.67816714e-01,  4.53382921e-01],\n",
       "       [ 7.65864707e-01,  2.98175931e-01,  4.53382921e-01],\n",
       "       [ 2.13234312e+00,  1.24660453e-03,  1.50695847e+00],\n",
       "       [ 5.04725504e-01, -7.01244728e-01, -6.00192629e-01],\n",
       "       [-7.90840110e-01, -5.56401155e-01, -6.00192629e-01],\n",
       "       [ 1.15644791e+00, -7.22971264e-01,  4.53382921e-01],\n",
       "       [ 6.87072706e-01,  1.56555720e+00,  1.50695847e+00],\n",
       "       [ 3.21291913e+00,  4.34655382e+00,  1.50695847e+00],\n",
       "       [-7.33434510e-01, -3.60862330e-01, -6.00192629e-01],\n",
       "       [ 9.43709509e-01,  2.53600915e+00,  4.53382921e-01],\n",
       "       [-7.75081710e-01, -1.37476735e+00, -6.00192629e-01],\n",
       "       [ 9.41458309e-01,  1.24660453e-03,  2.56053402e+00],\n",
       "       [-9.22535312e-01, -1.08508020e+00, -6.00192629e-01],\n",
       "       [-1.35589132e+00, -1.12853327e+00, -6.00192629e-01],\n",
       "       [ 1.16545271e+00,  6.64262127e-02,  1.50695847e+00],\n",
       "       [-8.58376111e-01, -5.78127691e-01, -6.00192629e-01],\n",
       "       [-7.16550509e-01,  3.48871182e-01, -6.00192629e-01],\n",
       "       [-1.26134092e+00, -7.80908694e-01, -1.65376818e+00],\n",
       "       [-4.28396906e-01,  1.24660453e-03,  4.53382921e-01],\n",
       "       [-7.16550509e-01, -1.02714277e+00, -6.00192629e-01],\n",
       "       [-3.95754506e-01, -3.60862330e-01, -6.00192629e-01],\n",
       "       [-1.09137531e+00, -7.22971264e-01, -6.00192629e-01],\n",
       "       [ 7.47462992e-02,  1.24660453e-03,  1.50695847e+00],\n",
       "       [-7.32308910e-01, -2.01534399e-01, -6.00192629e-01],\n",
       "       [ 2.62721501e-01, -8.56595397e-02, -6.00192629e-01],\n",
       "       [ 4.75459904e-01, -7.22971264e-01,  1.50695847e+00],\n",
       "       [-4.61039307e-01,  1.24660453e-03,  4.53382921e-01],\n",
       "       [-9.20284112e-01,  2.83691573e-01, -6.00192629e-01],\n",
       "       [-1.01483451e+00, -1.10680673e+00, -6.00192629e-01],\n",
       "       [-4.79048907e-01,  1.24660453e-03, -6.00192629e-01],\n",
       "       [-1.09362651e+00, -1.26613467e+00, -6.00192629e-01],\n",
       "       [-8.08849711e-01, -1.44718913e+00, -6.00192629e-01],\n",
       "       [ 1.46823911e+00, -1.32407210e+00, -6.00192629e-01],\n",
       "       [ 1.80591912e+00,  1.21069045e+00,  4.53382921e-01],\n",
       "       [ 1.04051111e+00,  2.11596278e+00,  4.53382921e-01],\n",
       "       [ 8.32275107e-01, -7.22971264e-01, -6.00192629e-01],\n",
       "       [ 3.24629502e-01, -7.22971264e-01, -6.00192629e-01],\n",
       "       [-2.21286504e-01, -9.04025732e-01, -6.00192629e-01],\n",
       "       [-1.13228903e-01,  1.24660453e-03, -6.00192629e-01]])"
      ]
     },
     "execution_count": 218,
     "metadata": {},
     "output_type": "execute_result"
    }
   ],
   "source": [
    "z"
   ]
  },
  {
   "cell_type": "code",
   "execution_count": 220,
   "metadata": {},
   "outputs": [],
   "source": [
    "from sklearn.preprocessing import LabelEncoder"
   ]
  },
  {
   "cell_type": "code",
   "execution_count": 221,
   "metadata": {},
   "outputs": [],
   "source": [
    "lb=LabelEncoder()"
   ]
  },
  {
   "cell_type": "code",
   "execution_count": 225,
   "metadata": {},
   "outputs": [],
   "source": [
    "df['time le']=le.fit_transform(df['time'])"
   ]
  },
  {
   "cell_type": "code",
   "execution_count": 230,
   "metadata": {},
   "outputs": [],
   "source": [
    "df.drop('sex le',axis=1,inplace=True)"
   ]
  },
  {
   "cell_type": "code",
   "execution_count": 234,
   "metadata": {},
   "outputs": [
    {
     "data": {
      "text/html": [
       "<div>\n",
       "<style scoped>\n",
       "    .dataframe tbody tr th:only-of-type {\n",
       "        vertical-align: middle;\n",
       "    }\n",
       "\n",
       "    .dataframe tbody tr th {\n",
       "        vertical-align: top;\n",
       "    }\n",
       "\n",
       "    .dataframe thead th {\n",
       "        text-align: right;\n",
       "    }\n",
       "</style>\n",
       "<table border=\"1\" class=\"dataframe\">\n",
       "  <thead>\n",
       "    <tr style=\"text-align: right;\">\n",
       "      <th></th>\n",
       "      <th>Thur</th>\n",
       "      <th>Fri</th>\n",
       "      <th>Sat</th>\n",
       "      <th>Sun</th>\n",
       "    </tr>\n",
       "  </thead>\n",
       "  <tbody>\n",
       "    <tr>\n",
       "      <th>0</th>\n",
       "      <td>0</td>\n",
       "      <td>0</td>\n",
       "      <td>0</td>\n",
       "      <td>1</td>\n",
       "    </tr>\n",
       "    <tr>\n",
       "      <th>1</th>\n",
       "      <td>0</td>\n",
       "      <td>0</td>\n",
       "      <td>0</td>\n",
       "      <td>1</td>\n",
       "    </tr>\n",
       "    <tr>\n",
       "      <th>2</th>\n",
       "      <td>0</td>\n",
       "      <td>0</td>\n",
       "      <td>0</td>\n",
       "      <td>1</td>\n",
       "    </tr>\n",
       "    <tr>\n",
       "      <th>3</th>\n",
       "      <td>0</td>\n",
       "      <td>0</td>\n",
       "      <td>0</td>\n",
       "      <td>1</td>\n",
       "    </tr>\n",
       "    <tr>\n",
       "      <th>4</th>\n",
       "      <td>0</td>\n",
       "      <td>0</td>\n",
       "      <td>0</td>\n",
       "      <td>1</td>\n",
       "    </tr>\n",
       "    <tr>\n",
       "      <th>...</th>\n",
       "      <td>...</td>\n",
       "      <td>...</td>\n",
       "      <td>...</td>\n",
       "      <td>...</td>\n",
       "    </tr>\n",
       "    <tr>\n",
       "      <th>239</th>\n",
       "      <td>0</td>\n",
       "      <td>0</td>\n",
       "      <td>1</td>\n",
       "      <td>0</td>\n",
       "    </tr>\n",
       "    <tr>\n",
       "      <th>240</th>\n",
       "      <td>0</td>\n",
       "      <td>0</td>\n",
       "      <td>1</td>\n",
       "      <td>0</td>\n",
       "    </tr>\n",
       "    <tr>\n",
       "      <th>241</th>\n",
       "      <td>0</td>\n",
       "      <td>0</td>\n",
       "      <td>1</td>\n",
       "      <td>0</td>\n",
       "    </tr>\n",
       "    <tr>\n",
       "      <th>242</th>\n",
       "      <td>0</td>\n",
       "      <td>0</td>\n",
       "      <td>1</td>\n",
       "      <td>0</td>\n",
       "    </tr>\n",
       "    <tr>\n",
       "      <th>243</th>\n",
       "      <td>1</td>\n",
       "      <td>0</td>\n",
       "      <td>0</td>\n",
       "      <td>0</td>\n",
       "    </tr>\n",
       "  </tbody>\n",
       "</table>\n",
       "<p>244 rows × 4 columns</p>\n",
       "</div>"
      ],
      "text/plain": [
       "     Thur  Fri  Sat  Sun\n",
       "0       0    0    0    1\n",
       "1       0    0    0    1\n",
       "2       0    0    0    1\n",
       "3       0    0    0    1\n",
       "4       0    0    0    1\n",
       "..    ...  ...  ...  ...\n",
       "239     0    0    1    0\n",
       "240     0    0    1    0\n",
       "241     0    0    1    0\n",
       "242     0    0    1    0\n",
       "243     1    0    0    0\n",
       "\n",
       "[244 rows x 4 columns]"
      ]
     },
     "execution_count": 234,
     "metadata": {},
     "output_type": "execute_result"
    }
   ],
   "source": [
    "pd.get_dummies(df['day'],drop_first=True,columns=['Total_bill',''])"
   ]
  }
 ],
 "metadata": {
  "colab": {
   "name": "EDA-Inclass-Questions-Day1New.ipynb",
   "provenance": [
    {
     "file_id": "1Hx29CR2vtVMlYUkbG6yO6IOoCZW25QEz",
     "timestamp": 1584941492337
    }
   ]
  },
  "hide_input": false,
  "kernelspec": {
   "display_name": "Python 3",
   "language": "python",
   "name": "python3"
  },
  "language_info": {
   "codemirror_mode": {
    "name": "ipython",
    "version": 3
   },
   "file_extension": ".py",
   "mimetype": "text/x-python",
   "name": "python",
   "nbconvert_exporter": "python",
   "pygments_lexer": "ipython3",
   "version": "3.7.7"
  },
  "toc": {
   "base_numbering": 1,
   "nav_menu": {},
   "number_sections": true,
   "sideBar": true,
   "skip_h1_title": false,
   "title_cell": "Table of Contents",
   "title_sidebar": "Contents",
   "toc_cell": false,
   "toc_position": {},
   "toc_section_display": true,
   "toc_window_display": false
  },
  "varInspector": {
   "cols": {
    "lenName": 16,
    "lenType": 16,
    "lenVar": 40
   },
   "kernels_config": {
    "python": {
     "delete_cmd_postfix": "",
     "delete_cmd_prefix": "del ",
     "library": "var_list.py",
     "varRefreshCmd": "print(var_dic_list())"
    },
    "r": {
     "delete_cmd_postfix": ") ",
     "delete_cmd_prefix": "rm(",
     "library": "var_list.r",
     "varRefreshCmd": "cat(var_dic_list()) "
    }
   },
   "types_to_exclude": [
    "module",
    "function",
    "builtin_function_or_method",
    "instance",
    "_Feature"
   ],
   "window_display": false
  }
 },
 "nbformat": 4,
 "nbformat_minor": 1
}
